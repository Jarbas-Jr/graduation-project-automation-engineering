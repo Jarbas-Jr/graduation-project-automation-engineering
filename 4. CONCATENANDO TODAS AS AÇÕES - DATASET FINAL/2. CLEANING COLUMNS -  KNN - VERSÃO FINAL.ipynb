{
 "cells": [
  {
   "cell_type": "code",
   "execution_count": 1,
   "metadata": {},
   "outputs": [
    {
     "ename": "ModuleNotFoundError",
     "evalue": "No module named 'fancyimpute'",
     "output_type": "error",
     "traceback": [
      "\u001b[0;31m---------------------------------------------------------------------------\u001b[0m",
      "\u001b[0;31mModuleNotFoundError\u001b[0m                       Traceback (most recent call last)",
      "\u001b[0;32m<ipython-input-1-8b5decfbf991>\u001b[0m in \u001b[0;36m<module>\u001b[0;34m\u001b[0m\n\u001b[1;32m      4\u001b[0m \u001b[0;32mimport\u001b[0m \u001b[0mnumpy\u001b[0m \u001b[0;32mas\u001b[0m \u001b[0mnp\u001b[0m\u001b[0;34m\u001b[0m\u001b[0;34m\u001b[0m\u001b[0m\n\u001b[1;32m      5\u001b[0m \u001b[0;34m\u001b[0m\u001b[0m\n\u001b[0;32m----> 6\u001b[0;31m \u001b[0;32mfrom\u001b[0m \u001b[0mfancyimpute\u001b[0m \u001b[0;32mimport\u001b[0m \u001b[0mKNN\u001b[0m\u001b[0;34m\u001b[0m\u001b[0;34m\u001b[0m\u001b[0m\n\u001b[0m\u001b[1;32m      7\u001b[0m \u001b[0;34m\u001b[0m\u001b[0m\n\u001b[1;32m      8\u001b[0m \u001b[0mpd\u001b[0m\u001b[0;34m.\u001b[0m\u001b[0mset_option\u001b[0m\u001b[0;34m(\u001b[0m\u001b[0;34m'display.width'\u001b[0m\u001b[0;34m,\u001b[0m \u001b[0;36m1000\u001b[0m\u001b[0;34m)\u001b[0m\u001b[0;34m\u001b[0m\u001b[0;34m\u001b[0m\u001b[0m\n",
      "\u001b[0;31mModuleNotFoundError\u001b[0m: No module named 'fancyimpute'"
     ]
    }
   ],
   "source": [
    "# importando as bibliotecas, especialmente a responsavel por imputar os dados oriundo do KNN\n",
    "\n",
    "import pandas as pd\n",
    "import numpy as np\n",
    "\n",
    "from fancyimpute import KNN\n",
    "\n",
    "pd.set_option('display.width', 1000)\n",
    "pd.set_option('display.max_columns', None)\n",
    "pd.set_option('display.max_rows', None)"
   ]
  },
  {
   "cell_type": "code",
   "execution_count": 2,
   "metadata": {},
   "outputs": [],
   "source": [
    "#extrai o dataset das info's de todas as ações concatenada, sem id\n",
    "# lembrando que as 3 primeiras colunas serão descartadas, e a quarta será a que deve ser classificada\n",
    "dataset = pd.read_csv('FINAL\\'S_DATASET\\'S_CONCATENADOS.csv')\n",
    "\n",
    "dataset.head()"
   ]
  },
  {
   "cell_type": "markdown",
   "metadata": {},
   "source": [
    "Ao analisar o dataset, decidi excluir colunas que tinha mais de 1/3 dos dados faltantes, seguindo a lista abaixo de colunas \"dropadas\"."
   ]
  },
  {
   "cell_type": "code",
   "execution_count": 5,
   "metadata": {},
   "outputs": [],
   "source": [
    "# exclui colunas que tem mais de 1/3 dos dados como zero ou faltante\n",
    "dataset = dataset.drop('Ativos Biológicos AC',axis=1)\n",
    "dataset = dataset.drop('Despesas Antecipadas AC',axis=1)\n",
    "dataset = dataset.drop('Aplicações Financeiras Avaliadas a Valor Justo ACLP',axis=1)\n",
    "dataset = dataset.drop('Aplicações Financeiras Avaliadas ao Custo Amortizado ACLP',axis=1)\n",
    "dataset = dataset.drop('Estoques ACLP',axis=1)\n",
    "dataset = dataset.drop('Ativos Biológicos ACLP',axis=1)\n",
    "dataset = dataset.drop('Despesas Antecipadas ACLP',axis=1)\n",
    "dataset = dataset.drop('Créditos com Partes Relacionadas ACLP',axis=1)\n",
    "dataset = dataset.drop('Diferido',axis=1)\n",
    "dataset = dataset.drop('Passivos com Partes Relacionadas PC',axis=1)\n",
    "dataset = dataset.drop('Dividendos e JCP a Pagar PC',axis=1)\n",
    "dataset = dataset.drop('Provisões PC',axis=1)\n",
    "dataset = dataset.drop('Passivos sobre Ativos Não-Correntes a Venda e Descontinuados PC',axis=1)\n",
    "dataset = dataset.drop('Passivos com Partes Relacionadas PNC',axis=1)\n",
    "dataset = dataset.drop('Adiantamento para Futuro Aumento Capital PNC',axis=1)\n",
    "dataset = dataset.drop('Passivos sobre Ativos Não-Correntes a Venda e Descontinuados PNC',axis=1)\n",
    "dataset = dataset.drop('Lucros e Receitas a Apropriar PNC',axis=1)\n",
    "dataset = dataset.drop('Reservas de Reavaliação',axis=1)\n",
    "dataset = dataset.drop('Ajustes de Avaliação Patrimonial',axis=1)\n",
    "dataset = dataset.drop('Ajustes Acumulados de Conversão',axis=1)\n",
    "dataset = dataset.drop('Outros Resultados Abrangentes',axis=1)\n",
    "dataset = dataset.drop('Adiantamento para Futuro Aumento Capital',axis=1)\n",
    "\n",
    "dataset.head()"
   ]
  },
  {
   "cell_type": "code",
   "execution_count": 7,
   "metadata": {
    "scrolled": true
   },
   "outputs": [
    {
     "name": "stdout",
     "output_type": "stream",
     "text": [
      "<class 'pandas.core.frame.DataFrame'>\n",
      "RangeIndex: 1392 entries, 0 to 1391\n",
      "Data columns (total 43 columns):\n",
      "Quarter                                          1392 non-null object\n",
      "Year                                             1392 non-null int64\n",
      "Cluster_Month                                    1392 non-null int64\n",
      "target                                           1390 non-null object\n",
      "High                                             1392 non-null float64\n",
      "Low                                              1392 non-null float64\n",
      "Open                                             1392 non-null float64\n",
      "Close                                            1392 non-null float64\n",
      "Volume                                           1392 non-null float64\n",
      "Adj Close                                        1392 non-null float64\n",
      "Ativo Total                                      1392 non-null float64\n",
      "Ativo Circulante                                 1392 non-null float64\n",
      "Caixa e Equivalentes de Caixa AC                 1392 non-null float64\n",
      "Aplicações Financeiras AC                        1392 non-null float64\n",
      "Contas a Receber AC                              1392 non-null float64\n",
      "Estoques AC                                      1392 non-null float64\n",
      "Tributos a Recuperar AC                          1392 non-null float64\n",
      "Outros Ativos Circulantes AC                     1392 non-null float64\n",
      "Ativo Realizavel Longo Prazo                     18 non-null float64\n",
      "Contas a Receber ACLP                            1392 non-null float64\n",
      "Tributos Diferidos ACLP                          1392 non-null float64\n",
      "Outros Ativos Não Circulantes ACLP               1392 non-null float64\n",
      "Investimentos                                    1392 non-null float64\n",
      "Imobilizado                                      1392 non-null float64\n",
      "Intangível                                       1392 non-null float64\n",
      "Passivo Total                                    1392 non-null float64\n",
      "Passivo Circulante                               1392 non-null float64\n",
      "Obrigações Sociais e Trabalhistas PC             1392 non-null float64\n",
      "Fornecedores PC                                  1392 non-null float64\n",
      "Obrigações Fiscais PC                            1392 non-null float64\n",
      "Empréstimos e Financiamentos PC                  1392 non-null float64\n",
      "Outros PC                                        1392 non-null float64\n",
      "Passivo Não Circulante                           1392 non-null float64\n",
      "Empréstimos e Financiamentos PNC                 1392 non-null float64\n",
      "Outros PNC                                       1392 non-null float64\n",
      "Tributos Diferidos PNC                           1392 non-null float64\n",
      "Provisões PNC                                    1392 non-null float64\n",
      "Participação dos Acionistas Não Controladores    1392 non-null float64\n",
      "Patrimônio Líquido                               1392 non-null float64\n",
      "Capital Social Realizado                         1392 non-null float64\n",
      "Reservas de Capital                              1392 non-null float64\n",
      "Reservas de Lucros                               1392 non-null float64\n",
      "Lucros/Prejuízos Acumulados                      1392 non-null float64\n",
      "dtypes: float64(39), int64(2), object(2)\n",
      "memory usage: 467.8+ KB\n"
     ]
    }
   ],
   "source": [
    "dataset.info()"
   ]
  },
  {
   "cell_type": "markdown",
   "metadata": {},
   "source": [
    "# APLICAÇÃO DO ALGORTIMO KNN PARA PREENCHIMENTO DOS DADOS FALTANTES\n",
    "\n",
    "Abaixo, separei apenas as colunas que serão imputadas para treinamento, tirando as de data e os id's. Assim ao invés de um método tradicional como preencher dados faltantes com média ou mediana, utilizei a metodologia com a biblioteca fancy impute, para aplicar KNN e preencher os dados faltantes com esse algortimo.\n",
    "\n",
    "Na célula abaixo a separação."
   ]
  },
  {
   "cell_type": "code",
   "execution_count": 8,
   "metadata": {
    "scrolled": true
   },
   "outputs": [
    {
     "data": {
      "text/plain": [
       "array([[ 1.75683994e+01,  1.51485996e+01,  1.73183994e+01, ...,\n",
       "         5.53849940e+07,  1.85452400e+06,  1.42592900e+06],\n",
       "       [ 1.78484001e+01,  1.54399996e+01,  1.69083996e+01, ...,\n",
       "         5.53091190e+07,  1.85452400e+06,  3.59281100e+06],\n",
       "       [ 1.68799992e+01,  1.50100002e+01,  1.57799997e+01, ...,\n",
       "         5.50955340e+07,  1.85452400e+06,  3.89562100e+06],\n",
       "       ...,\n",
       "       [ 1.92460995e+01,  1.59076996e+01,  1.65230999e+01, ...,\n",
       "        -9.05200000e+04,  2.26943600e+06,  2.05329000e+05],\n",
       "       [ 2.51700001e+01,  1.65230999e+01,  1.85461998e+01, ...,\n",
       "        -9.27800000e+04,  4.71680000e+05,  2.91602000e+05],\n",
       "       [ 1.94300003e+01,  1.50699997e+01,  1.74538002e+01, ...,\n",
       "        -8.99140000e+04,  2.98892000e+05,  5.95844000e+05]])"
      ]
     },
     "execution_count": 8,
     "metadata": {},
     "output_type": "execute_result"
    }
   ],
   "source": [
    "#separa as colunas que serão usadas para treinamento em 'dataset'\n",
    "pricing = dataset.iloc[0:,0:4]\n",
    "dataset = dataset.iloc[0:,4:]\n",
    "dataset.to_numpy()"
   ]
  },
  {
   "cell_type": "markdown",
   "metadata": {},
   "source": [
    "Após trocar os valores 0 para \"NaN\", então realizamos o preenchimento de fato com o KNN."
   ]
  },
  {
   "cell_type": "code",
   "execution_count": 9,
   "metadata": {},
   "outputs": [
    {
     "name": "stdout",
     "output_type": "stream",
     "text": [
      "Imputing row 1/1392 with 1 missing, elapsed time: 0.482\n",
      "Imputing row 101/1392 with 2 missing, elapsed time: 0.490\n",
      "Imputing row 201/1392 with 8 missing, elapsed time: 0.507\n",
      "Imputing row 301/1392 with 2 missing, elapsed time: 0.517\n",
      "Imputing row 401/1392 with 2 missing, elapsed time: 0.525\n",
      "Imputing row 501/1392 with 2 missing, elapsed time: 0.532\n",
      "Imputing row 601/1392 with 2 missing, elapsed time: 0.540\n",
      "Imputing row 701/1392 with 1 missing, elapsed time: 0.545\n",
      "Imputing row 801/1392 with 5 missing, elapsed time: 0.554\n",
      "Imputing row 901/1392 with 3 missing, elapsed time: 0.560\n",
      "Imputing row 1001/1392 with 10 missing, elapsed time: 0.569\n",
      "Imputing row 1101/1392 with 9 missing, elapsed time: 0.574\n",
      "Imputing row 1201/1392 with 5 missing, elapsed time: 0.586\n",
      "Imputing row 1301/1392 with 4 missing, elapsed time: 0.607\n"
     ]
    }
   ],
   "source": [
    "#aplica knn, na tabela do excel, coloquei zero nos espaços que havia #, entao troquei tudo que tinha zero para 'nan'\n",
    "# finalmente aplico knn com k=3\n",
    "X = dataset.replace(0, np.nan, inplace=True)\n",
    "dataset.replace(0, np.nan, inplace=True)\n",
    "final_data = KNN(k=3).fit_transform(dataset)"
   ]
  },
  {
   "cell_type": "markdown",
   "metadata": {},
   "source": [
    "A metodologia tira as labels das colunas e aqui as coloco de volta.\n"
   ]
  },
  {
   "cell_type": "code",
   "execution_count": 10,
   "metadata": {},
   "outputs": [],
   "source": [
    "dataset = pd.DataFrame(data = final_data, columns = ['High','Low','Open','Close','Volume','Adj Close','Ativo Total','Ativo Circulante','Caixa e Equivalentes de Caixa AC','Aplicações Financeiras AC','Contas a Receber AC','Estoques AC','Tributos a Recuperar AC','Outros Ativos Circulantes AC','Ativo Realizavel Longo Prazo','Contas a Receber ACLP','Tributos Diferidos ACLP','Outros Ativos Não Circulantes ACLP','Investimentos','Imobilizado','Intangível','Passivo Total','Passivo Circulante','Obrigações Sociais e Trabalhistas PC','Fornecedores PC','Obrigações Fiscais PC','Empréstimos e Financiamentos PC','Outros PC','Passivo Não Circulante','Empréstimos e Financiamentos PNC','Outros PNC','Tributos Diferidos PNC','Provisões PNC','Participação dos Acionistas Não Controladores','Patrimônio Líquido','Capital Social Realizado','Reservas de Capital','Reservas de Lucros','Lucros/Prejuízos Acumulados'])\n"
   ]
  },
  {
   "cell_type": "markdown",
   "metadata": {},
   "source": [
    "Concateno de volta com os dados que não são de treinamento e tenho dataset final preenchido"
   ]
  },
  {
   "cell_type": "code",
   "execution_count": 2,
   "metadata": {
    "scrolled": true
   },
   "outputs": [
    {
     "ename": "NameError",
     "evalue": "name 'pricing' is not defined",
     "output_type": "error",
     "traceback": [
      "\u001b[0;31m---------------------------------------------------------------------------\u001b[0m",
      "\u001b[0;31mNameError\u001b[0m                                 Traceback (most recent call last)",
      "\u001b[0;32m<ipython-input-2-0ab8c8d057f2>\u001b[0m in \u001b[0;36m<module>\u001b[0;34m\u001b[0m\n\u001b[0;32m----> 1\u001b[0;31m \u001b[0mdataset\u001b[0m \u001b[0;34m=\u001b[0m \u001b[0mpd\u001b[0m\u001b[0;34m.\u001b[0m\u001b[0mconcat\u001b[0m\u001b[0;34m(\u001b[0m\u001b[0;34m[\u001b[0m\u001b[0mpricing\u001b[0m\u001b[0;34m,\u001b[0m \u001b[0mdataset\u001b[0m\u001b[0;34m]\u001b[0m\u001b[0;34m,\u001b[0m \u001b[0maxis\u001b[0m\u001b[0;34m=\u001b[0m\u001b[0;36m1\u001b[0m\u001b[0;34m)\u001b[0m\u001b[0;34m\u001b[0m\u001b[0;34m\u001b[0m\u001b[0m\n\u001b[0m\u001b[1;32m      2\u001b[0m \u001b[0mdataset\u001b[0m\u001b[0;34m.\u001b[0m\u001b[0mhead\u001b[0m\u001b[0;34m(\u001b[0m\u001b[0;34m)\u001b[0m\u001b[0;34m\u001b[0m\u001b[0;34m\u001b[0m\u001b[0m\n",
      "\u001b[0;31mNameError\u001b[0m: name 'pricing' is not defined"
     ]
    }
   ],
   "source": [
    "dataset = pd.concat([pricing, dataset], axis=1)\n",
    "dataset.head()"
   ]
  },
  {
   "cell_type": "code",
   "execution_count": 13,
   "metadata": {},
   "outputs": [
    {
     "data": {
      "text/html": [
       "<div>\n",
       "<style scoped>\n",
       "    .dataframe tbody tr th:only-of-type {\n",
       "        vertical-align: middle;\n",
       "    }\n",
       "\n",
       "    .dataframe tbody tr th {\n",
       "        vertical-align: top;\n",
       "    }\n",
       "\n",
       "    .dataframe thead th {\n",
       "        text-align: right;\n",
       "    }\n",
       "</style>\n",
       "<table border=\"1\" class=\"dataframe\">\n",
       "  <thead>\n",
       "    <tr style=\"text-align: right;\">\n",
       "      <th></th>\n",
       "      <th>target</th>\n",
       "      <th>High</th>\n",
       "      <th>Low</th>\n",
       "      <th>Open</th>\n",
       "      <th>Close</th>\n",
       "      <th>Volume</th>\n",
       "      <th>Adj Close</th>\n",
       "      <th>Ativo Total</th>\n",
       "      <th>Ativo Circulante</th>\n",
       "      <th>Caixa e Equivalentes de Caixa AC</th>\n",
       "      <th>Aplicações Financeiras AC</th>\n",
       "      <th>Contas a Receber AC</th>\n",
       "      <th>Estoques AC</th>\n",
       "      <th>Tributos a Recuperar AC</th>\n",
       "      <th>Outros Ativos Circulantes AC</th>\n",
       "      <th>Ativo Realizavel Longo Prazo</th>\n",
       "      <th>Contas a Receber ACLP</th>\n",
       "      <th>Tributos Diferidos ACLP</th>\n",
       "      <th>Outros Ativos Não Circulantes ACLP</th>\n",
       "      <th>Investimentos</th>\n",
       "      <th>Imobilizado</th>\n",
       "      <th>Intangível</th>\n",
       "      <th>Passivo Total</th>\n",
       "      <th>Passivo Circulante</th>\n",
       "      <th>Obrigações Sociais e Trabalhistas PC</th>\n",
       "      <th>Fornecedores PC</th>\n",
       "      <th>Obrigações Fiscais PC</th>\n",
       "      <th>Empréstimos e Financiamentos PC</th>\n",
       "      <th>Outros PC</th>\n",
       "      <th>Passivo Não Circulante</th>\n",
       "      <th>Empréstimos e Financiamentos PNC</th>\n",
       "      <th>Outros PNC</th>\n",
       "      <th>Tributos Diferidos PNC</th>\n",
       "      <th>Provisões PNC</th>\n",
       "      <th>Participação dos Acionistas Não Controladores</th>\n",
       "      <th>Patrimônio Líquido</th>\n",
       "      <th>Capital Social Realizado</th>\n",
       "      <th>Reservas de Capital</th>\n",
       "      <th>Reservas de Lucros</th>\n",
       "      <th>Lucros/Prejuízos Acumulados</th>\n",
       "    </tr>\n",
       "  </thead>\n",
       "  <tbody>\n",
       "    <tr>\n",
       "      <td>0</td>\n",
       "      <td>Bad</td>\n",
       "      <td>17.568399</td>\n",
       "      <td>15.1486</td>\n",
       "      <td>17.318399</td>\n",
       "      <td>16.948400</td>\n",
       "      <td>1.965972e+08</td>\n",
       "      <td>14.102244</td>\n",
       "      <td>63297044.0</td>\n",
       "      <td>16352306.0</td>\n",
       "      <td>7296176.0</td>\n",
       "      <td>410173.0</td>\n",
       "      <td>3110085.0</td>\n",
       "      <td>3062296.0</td>\n",
       "      <td>1420520.0</td>\n",
       "      <td>370844.0</td>\n",
       "      <td>3756613.0</td>\n",
       "      <td>17763.848426</td>\n",
       "      <td>1478593.0</td>\n",
       "      <td>2205164.0</td>\n",
       "      <td>52264.0</td>\n",
       "      <td>13592357.0</td>\n",
       "      <td>29543504.0</td>\n",
       "      <td>63297044.0</td>\n",
       "      <td>16170391.0</td>\n",
       "      <td>531316.0</td>\n",
       "      <td>6828317.0</td>\n",
       "      <td>2990676.0</td>\n",
       "      <td>922265.0</td>\n",
       "      <td>2374356.0</td>\n",
       "      <td>7021086.0</td>\n",
       "      <td>1832055.0</td>\n",
       "      <td>3042328.0</td>\n",
       "      <td>1712877.0</td>\n",
       "      <td>433826.0</td>\n",
       "      <td>1183099.0</td>\n",
       "      <td>38922467.0</td>\n",
       "      <td>57026675.0</td>\n",
       "      <td>55384994.0</td>\n",
       "      <td>1854524.0</td>\n",
       "      <td>1.425929e+06</td>\n",
       "    </tr>\n",
       "    <tr>\n",
       "      <td>1</td>\n",
       "      <td>Good</td>\n",
       "      <td>17.848400</td>\n",
       "      <td>15.4400</td>\n",
       "      <td>16.908400</td>\n",
       "      <td>15.760000</td>\n",
       "      <td>2.176709e+08</td>\n",
       "      <td>13.601284</td>\n",
       "      <td>62989046.0</td>\n",
       "      <td>15773269.0</td>\n",
       "      <td>6273862.0</td>\n",
       "      <td>379938.0</td>\n",
       "      <td>3538384.0</td>\n",
       "      <td>3120458.0</td>\n",
       "      <td>1510419.0</td>\n",
       "      <td>397196.0</td>\n",
       "      <td>3796661.0</td>\n",
       "      <td>63914.865253</td>\n",
       "      <td>1560626.0</td>\n",
       "      <td>2165712.0</td>\n",
       "      <td>45764.0</td>\n",
       "      <td>13913460.0</td>\n",
       "      <td>29459888.0</td>\n",
       "      <td>62989046.0</td>\n",
       "      <td>14456702.0</td>\n",
       "      <td>488236.0</td>\n",
       "      <td>6617454.0</td>\n",
       "      <td>2888665.0</td>\n",
       "      <td>869694.0</td>\n",
       "      <td>3063177.0</td>\n",
       "      <td>6583738.0</td>\n",
       "      <td>1787039.0</td>\n",
       "      <td>2629108.0</td>\n",
       "      <td>1720917.0</td>\n",
       "      <td>446674.0</td>\n",
       "      <td>1134143.0</td>\n",
       "      <td>40814459.0</td>\n",
       "      <td>57131287.0</td>\n",
       "      <td>55309119.0</td>\n",
       "      <td>1854524.0</td>\n",
       "      <td>3.592811e+06</td>\n",
       "    </tr>\n",
       "    <tr>\n",
       "      <td>2</td>\n",
       "      <td>Good</td>\n",
       "      <td>16.879999</td>\n",
       "      <td>15.0100</td>\n",
       "      <td>15.780000</td>\n",
       "      <td>16.040001</td>\n",
       "      <td>2.518402e+08</td>\n",
       "      <td>13.748458</td>\n",
       "      <td>65125921.0</td>\n",
       "      <td>15446576.0</td>\n",
       "      <td>5748116.0</td>\n",
       "      <td>526789.0</td>\n",
       "      <td>3275641.0</td>\n",
       "      <td>3158975.0</td>\n",
       "      <td>1706011.0</td>\n",
       "      <td>491612.0</td>\n",
       "      <td>4393090.0</td>\n",
       "      <td>81147.681202</td>\n",
       "      <td>2140412.0</td>\n",
       "      <td>2177098.0</td>\n",
       "      <td>37101.0</td>\n",
       "      <td>14814114.0</td>\n",
       "      <td>30435039.0</td>\n",
       "      <td>65125921.0</td>\n",
       "      <td>14590587.0</td>\n",
       "      <td>577373.0</td>\n",
       "      <td>6950304.0</td>\n",
       "      <td>2231823.0</td>\n",
       "      <td>794886.0</td>\n",
       "      <td>3456782.0</td>\n",
       "      <td>6911235.0</td>\n",
       "      <td>1719091.0</td>\n",
       "      <td>3116704.0</td>\n",
       "      <td>1701318.0</td>\n",
       "      <td>374122.0</td>\n",
       "      <td>1228763.0</td>\n",
       "      <td>42395337.0</td>\n",
       "      <td>57508839.0</td>\n",
       "      <td>55095534.0</td>\n",
       "      <td>1854524.0</td>\n",
       "      <td>3.895621e+06</td>\n",
       "    </tr>\n",
       "    <tr>\n",
       "      <td>3</td>\n",
       "      <td>Bad</td>\n",
       "      <td>17.450001</td>\n",
       "      <td>14.9500</td>\n",
       "      <td>15.850000</td>\n",
       "      <td>16.350000</td>\n",
       "      <td>4.655547e+08</td>\n",
       "      <td>14.338640</td>\n",
       "      <td>72143200.0</td>\n",
       "      <td>20728420.0</td>\n",
       "      <td>9722067.0</td>\n",
       "      <td>712958.0</td>\n",
       "      <td>3028854.0</td>\n",
       "      <td>3411284.0</td>\n",
       "      <td>1581908.0</td>\n",
       "      <td>1489747.0</td>\n",
       "      <td>4376472.0</td>\n",
       "      <td>159218.446774</td>\n",
       "      <td>1392500.0</td>\n",
       "      <td>2800381.0</td>\n",
       "      <td>40448.0</td>\n",
       "      <td>15740058.0</td>\n",
       "      <td>31257805.0</td>\n",
       "      <td>72143200.0</td>\n",
       "      <td>21824784.0</td>\n",
       "      <td>598360.0</td>\n",
       "      <td>8708739.0</td>\n",
       "      <td>3543689.0</td>\n",
       "      <td>988056.0</td>\n",
       "      <td>5411355.0</td>\n",
       "      <td>6673751.0</td>\n",
       "      <td>1634567.0</td>\n",
       "      <td>2758333.0</td>\n",
       "      <td>1737631.0</td>\n",
       "      <td>543220.0</td>\n",
       "      <td>1423075.0</td>\n",
       "      <td>42221595.0</td>\n",
       "      <td>57582346.0</td>\n",
       "      <td>55023268.0</td>\n",
       "      <td>4883945.0</td>\n",
       "      <td>1.983725e+06</td>\n",
       "    </tr>\n",
       "    <tr>\n",
       "      <td>4</td>\n",
       "      <td>Bad</td>\n",
       "      <td>18.969999</td>\n",
       "      <td>15.5400</td>\n",
       "      <td>16.350000</td>\n",
       "      <td>18.480000</td>\n",
       "      <td>2.360883e+08</td>\n",
       "      <td>16.001095</td>\n",
       "      <td>75101184.0</td>\n",
       "      <td>19241015.0</td>\n",
       "      <td>6974585.0</td>\n",
       "      <td>1033758.0</td>\n",
       "      <td>2897700.0</td>\n",
       "      <td>4377889.0</td>\n",
       "      <td>1394295.0</td>\n",
       "      <td>1861428.0</td>\n",
       "      <td>5859775.0</td>\n",
       "      <td>23295.856814</td>\n",
       "      <td>2791228.0</td>\n",
       "      <td>2883485.0</td>\n",
       "      <td>146156.0</td>\n",
       "      <td>16542042.0</td>\n",
       "      <td>33312197.0</td>\n",
       "      <td>75101184.0</td>\n",
       "      <td>21767887.0</td>\n",
       "      <td>615576.0</td>\n",
       "      <td>8199044.0</td>\n",
       "      <td>3042100.0</td>\n",
       "      <td>994518.0</td>\n",
       "      <td>8276886.0</td>\n",
       "      <td>7220915.0</td>\n",
       "      <td>1696525.0</td>\n",
       "      <td>3051086.0</td>\n",
       "      <td>1896973.0</td>\n",
       "      <td>576331.0</td>\n",
       "      <td>1794362.0</td>\n",
       "      <td>44318021.0</td>\n",
       "      <td>57614139.0</td>\n",
       "      <td>54986125.0</td>\n",
       "      <td>2904091.0</td>\n",
       "      <td>1.867697e+06</td>\n",
       "    </tr>\n",
       "  </tbody>\n",
       "</table>\n",
       "</div>"
      ],
      "text/plain": [
       "  target       High      Low       Open      Close        Volume  Adj Close  Ativo Total  Ativo Circulante  Caixa e Equivalentes de Caixa AC  Aplicações Financeiras AC  Contas a Receber AC  Estoques AC  Tributos a Recuperar AC  Outros Ativos Circulantes AC  Ativo Realizavel Longo Prazo  Contas a Receber ACLP  Tributos Diferidos ACLP  Outros Ativos Não Circulantes ACLP  Investimentos  Imobilizado  Intangível  Passivo Total  Passivo Circulante  Obrigações Sociais e Trabalhistas PC  Fornecedores PC  Obrigações Fiscais PC  Empréstimos e Financiamentos PC  Outros PC  Passivo Não Circulante  Empréstimos e Financiamentos PNC  Outros PNC  Tributos Diferidos PNC  Provisões PNC  Participação dos Acionistas Não Controladores  Patrimônio Líquido  Capital Social Realizado  Reservas de Capital  Reservas de Lucros  Lucros/Prejuízos Acumulados\n",
       "0    Bad  17.568399  15.1486  17.318399  16.948400  1.965972e+08  14.102244   63297044.0        16352306.0                         7296176.0                   410173.0            3110085.0    3062296.0                1420520.0                      370844.0                     3756613.0           17763.848426                1478593.0                           2205164.0        52264.0   13592357.0  29543504.0     63297044.0          16170391.0                              531316.0        6828317.0              2990676.0                         922265.0  2374356.0               7021086.0                         1832055.0   3042328.0               1712877.0       433826.0                                      1183099.0          38922467.0                57026675.0           55384994.0           1854524.0                 1.425929e+06\n",
       "1   Good  17.848400  15.4400  16.908400  15.760000  2.176709e+08  13.601284   62989046.0        15773269.0                         6273862.0                   379938.0            3538384.0    3120458.0                1510419.0                      397196.0                     3796661.0           63914.865253                1560626.0                           2165712.0        45764.0   13913460.0  29459888.0     62989046.0          14456702.0                              488236.0        6617454.0              2888665.0                         869694.0  3063177.0               6583738.0                         1787039.0   2629108.0               1720917.0       446674.0                                      1134143.0          40814459.0                57131287.0           55309119.0           1854524.0                 3.592811e+06\n",
       "2   Good  16.879999  15.0100  15.780000  16.040001  2.518402e+08  13.748458   65125921.0        15446576.0                         5748116.0                   526789.0            3275641.0    3158975.0                1706011.0                      491612.0                     4393090.0           81147.681202                2140412.0                           2177098.0        37101.0   14814114.0  30435039.0     65125921.0          14590587.0                              577373.0        6950304.0              2231823.0                         794886.0  3456782.0               6911235.0                         1719091.0   3116704.0               1701318.0       374122.0                                      1228763.0          42395337.0                57508839.0           55095534.0           1854524.0                 3.895621e+06\n",
       "3    Bad  17.450001  14.9500  15.850000  16.350000  4.655547e+08  14.338640   72143200.0        20728420.0                         9722067.0                   712958.0            3028854.0    3411284.0                1581908.0                     1489747.0                     4376472.0          159218.446774                1392500.0                           2800381.0        40448.0   15740058.0  31257805.0     72143200.0          21824784.0                              598360.0        8708739.0              3543689.0                         988056.0  5411355.0               6673751.0                         1634567.0   2758333.0               1737631.0       543220.0                                      1423075.0          42221595.0                57582346.0           55023268.0           4883945.0                 1.983725e+06\n",
       "4    Bad  18.969999  15.5400  16.350000  18.480000  2.360883e+08  16.001095   75101184.0        19241015.0                         6974585.0                  1033758.0            2897700.0    4377889.0                1394295.0                     1861428.0                     5859775.0           23295.856814                2791228.0                           2883485.0       146156.0   16542042.0  33312197.0     75101184.0          21767887.0                              615576.0        8199044.0              3042100.0                         994518.0  8276886.0               7220915.0                         1696525.0   3051086.0               1896973.0       576331.0                                      1794362.0          44318021.0                57614139.0           54986125.0           2904091.0                 1.867697e+06"
      ]
     },
     "execution_count": 13,
     "metadata": {},
     "output_type": "execute_result"
    }
   ],
   "source": [
    "dataset = dataset.iloc[0:,3:]\n",
    "dataset.head()"
   ]
  },
  {
   "cell_type": "markdown",
   "metadata": {},
   "source": [
    "# Agora é o momento de balancear o dataset, mesmo número de targets 'Good' e 'Bad', para evitar viéses no momento do treinamento."
   ]
  },
  {
   "cell_type": "code",
   "execution_count": 14,
   "metadata": {},
   "outputs": [],
   "source": [
    "from sklearn.utils import resample"
   ]
  },
  {
   "cell_type": "markdown",
   "metadata": {},
   "source": [
    "Ao contarmos o nosso label, vemos uma diferença, assim necessitamos alterar isso para que tenhamos uma equidade e evitemos viéses no momento do treinamento."
   ]
  },
  {
   "cell_type": "code",
   "execution_count": 15,
   "metadata": {},
   "outputs": [
    {
     "data": {
      "text/plain": [
       "Bad     733\n",
       "Good    657\n",
       "Name: target, dtype: int64"
      ]
     },
     "execution_count": 15,
     "metadata": {},
     "output_type": "execute_result"
    }
   ],
   "source": [
    "dataset['target'].value_counts()"
   ]
  },
  {
   "cell_type": "markdown",
   "metadata": {},
   "source": [
    "Ao invés de criar \"Good's\" sintéticos, preferi deletar \"Bad's\", assim vemos, após a aplicação que ambos os labels são mantidos com amostras em 657 Bad e 657 Good."
   ]
  },
  {
   "cell_type": "code",
   "execution_count": 16,
   "metadata": {
    "scrolled": true
   },
   "outputs": [
    {
     "name": "stderr",
     "output_type": "stream",
     "text": [
      "/home/jarbasjr/.local/lib/python3.6/site-packages/ipykernel_launcher.py:1: SettingWithCopyWarning: \n",
      "A value is trying to be set on a copy of a slice from a DataFrame\n",
      "\n",
      "See the caveats in the documentation: http://pandas.pydata.org/pandas-docs/stable/user_guide/indexing.html#returning-a-view-versus-a-copy\n",
      "  \"\"\"Entry point for launching an IPython kernel.\n",
      "/home/jarbasjr/.local/lib/python3.6/site-packages/ipykernel_launcher.py:2: SettingWithCopyWarning: \n",
      "A value is trying to be set on a copy of a slice from a DataFrame\n",
      "\n",
      "See the caveats in the documentation: http://pandas.pydata.org/pandas-docs/stable/user_guide/indexing.html#returning-a-view-versus-a-copy\n",
      "  \n"
     ]
    },
    {
     "data": {
      "text/plain": [
       "1    657\n",
       "0    657\n",
       "Name: target, dtype: int64"
      ]
     },
     "execution_count": 16,
     "metadata": {},
     "output_type": "execute_result"
    }
   ],
   "source": [
    "dataset.target[dataset.target == 'Bad'] = 0\n",
    "dataset.target[dataset.target == 'Good'] = 1\n",
    "\n",
    "df_majority = dataset[dataset['target'] == 0]\n",
    "df_minority = dataset[dataset['target'] == 1]\n",
    "\n",
    "df_majority_downsampled = resample(df_majority,\n",
    "                                 replace = True,\n",
    "                                 n_samples = 657,\n",
    "                                 random_state = 123)\n",
    "\n",
    "df_balanceado = pd.concat([df_majority_downsampled, df_minority])\n",
    "\n",
    "df_balanceado['target'].value_counts()\n"
   ]
  },
  {
   "cell_type": "markdown",
   "metadata": {},
   "source": [
    "Por conta da metodologia tive que atribuir valor númerico a cada um deles, mas aqui retorno aos seus labels originais.\n",
    "\n",
    "0 = Bad\n",
    "\n",
    "1 = Good"
   ]
  },
  {
   "cell_type": "code",
   "execution_count": 17,
   "metadata": {
    "scrolled": true
   },
   "outputs": [
    {
     "name": "stderr",
     "output_type": "stream",
     "text": [
      "/home/jarbasjr/.local/lib/python3.6/site-packages/ipykernel_launcher.py:1: SettingWithCopyWarning: \n",
      "A value is trying to be set on a copy of a slice from a DataFrame\n",
      "\n",
      "See the caveats in the documentation: http://pandas.pydata.org/pandas-docs/stable/user_guide/indexing.html#returning-a-view-versus-a-copy\n",
      "  \"\"\"Entry point for launching an IPython kernel.\n",
      "/home/jarbasjr/.local/lib/python3.6/site-packages/ipykernel_launcher.py:2: SettingWithCopyWarning: \n",
      "A value is trying to be set on a copy of a slice from a DataFrame\n",
      "\n",
      "See the caveats in the documentation: http://pandas.pydata.org/pandas-docs/stable/user_guide/indexing.html#returning-a-view-versus-a-copy\n",
      "  \n"
     ]
    }
   ],
   "source": [
    "df_balanceado.target[df_balanceado.target == 0] = 'Bad'\n",
    "df_balanceado.target[df_balanceado.target == 1] = 'Good'\n",
    "\n",
    "dataset = df_balanceado"
   ]
  },
  {
   "cell_type": "code",
   "execution_count": 18,
   "metadata": {},
   "outputs": [
    {
     "data": {
      "text/plain": [
       "Bad     657\n",
       "Good    657\n",
       "Name: target, dtype: int64"
      ]
     },
     "execution_count": 18,
     "metadata": {},
     "output_type": "execute_result"
    }
   ],
   "source": [
    "dataset['target'].value_counts()"
   ]
  },
  {
   "cell_type": "code",
   "execution_count": 20,
   "metadata": {},
   "outputs": [
    {
     "name": "stdout",
     "output_type": "stream",
     "text": [
      "<class 'pandas.core.frame.DataFrame'>\n",
      "Int64Index: 1314 entries, 964 to 1391\n",
      "Data columns (total 40 columns):\n",
      "target                                           1314 non-null object\n",
      "High                                             1314 non-null float64\n",
      "Low                                              1314 non-null float64\n",
      "Open                                             1314 non-null float64\n",
      "Close                                            1314 non-null float64\n",
      "Volume                                           1314 non-null float64\n",
      "Adj Close                                        1314 non-null float64\n",
      "Ativo Total                                      1314 non-null float64\n",
      "Ativo Circulante                                 1314 non-null float64\n",
      "Caixa e Equivalentes de Caixa AC                 1314 non-null float64\n",
      "Aplicações Financeiras AC                        1314 non-null float64\n",
      "Contas a Receber AC                              1314 non-null float64\n",
      "Estoques AC                                      1314 non-null float64\n",
      "Tributos a Recuperar AC                          1314 non-null float64\n",
      "Outros Ativos Circulantes AC                     1314 non-null float64\n",
      "Ativo Realizavel Longo Prazo                     1314 non-null float64\n",
      "Contas a Receber ACLP                            1314 non-null float64\n",
      "Tributos Diferidos ACLP                          1314 non-null float64\n",
      "Outros Ativos Não Circulantes ACLP               1314 non-null float64\n",
      "Investimentos                                    1314 non-null float64\n",
      "Imobilizado                                      1314 non-null float64\n",
      "Intangível                                       1314 non-null float64\n",
      "Passivo Total                                    1314 non-null float64\n",
      "Passivo Circulante                               1314 non-null float64\n",
      "Obrigações Sociais e Trabalhistas PC             1314 non-null float64\n",
      "Fornecedores PC                                  1314 non-null float64\n",
      "Obrigações Fiscais PC                            1314 non-null float64\n",
      "Empréstimos e Financiamentos PC                  1314 non-null float64\n",
      "Outros PC                                        1314 non-null float64\n",
      "Passivo Não Circulante                           1314 non-null float64\n",
      "Empréstimos e Financiamentos PNC                 1314 non-null float64\n",
      "Outros PNC                                       1314 non-null float64\n",
      "Tributos Diferidos PNC                           1314 non-null float64\n",
      "Provisões PNC                                    1314 non-null float64\n",
      "Participação dos Acionistas Não Controladores    1314 non-null float64\n",
      "Patrimônio Líquido                               1314 non-null float64\n",
      "Capital Social Realizado                         1314 non-null float64\n",
      "Reservas de Capital                              1314 non-null float64\n",
      "Reservas de Lucros                               1314 non-null float64\n",
      "Lucros/Prejuízos Acumulados                      1314 non-null float64\n",
      "dtypes: float64(39), object(1)\n",
      "memory usage: 420.9+ KB\n"
     ]
    }
   ],
   "source": [
    "dataset.info()"
   ]
  },
  {
   "cell_type": "markdown",
   "metadata": {},
   "source": [
    "# FINALIZANDO, APÓS DELETAR COLUNAS COM MUITOS DADOS FALTANTES, PREENCHER DADOS FALTANTES E BALANCEAR O DATASET. FINALIZAMOS PARA MANDAR A APLICAÇÃO DE ALGORITIMOS"
   ]
  },
  {
   "cell_type": "code",
   "execution_count": 19,
   "metadata": {},
   "outputs": [],
   "source": [
    "dataset.to_csv(\"DATASET_FINAL_PARA_APLICAÇÃO_DOS_ALGORITIMOS.csv\", index= False)"
   ]
  }
 ],
 "metadata": {
  "kernelspec": {
   "display_name": "Python 3",
   "language": "python",
   "name": "python3"
  },
  "language_info": {
   "codemirror_mode": {
    "name": "ipython",
    "version": 3
   },
   "file_extension": ".py",
   "mimetype": "text/x-python",
   "name": "python",
   "nbconvert_exporter": "python",
   "pygments_lexer": "ipython3",
   "version": "3.7.4"
  }
 },
 "nbformat": 4,
 "nbformat_minor": 2
}
