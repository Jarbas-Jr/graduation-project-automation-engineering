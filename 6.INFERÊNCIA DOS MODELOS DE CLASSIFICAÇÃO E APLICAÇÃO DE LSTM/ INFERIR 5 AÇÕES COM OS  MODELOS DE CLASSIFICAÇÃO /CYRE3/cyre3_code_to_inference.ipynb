{
 "cells": [
  {
   "cell_type": "markdown",
   "metadata": {},
   "source": [
    "## Aqui fazemos a primeira etapa do code, onde é feito o processamento dos dados baixados da ação correspondente, direto do site da Fundamentus. São explicados todos os passos do processamento. "
   ]
  },
  {
   "cell_type": "code",
   "execution_count": 1,
   "metadata": {
    "scrolled": true
   },
   "outputs": [
    {
     "name": "stderr",
     "output_type": "stream",
     "text": [
      "Using TensorFlow backend.\n",
      "/home/jarbasjr/.local/lib/python3.6/site-packages/tensorflow/python/framework/dtypes.py:516: FutureWarning: Passing (type, 1) or '1type' as a synonym of type is deprecated; in a future version of numpy, it will be understood as (type, (1,)) / '(1,)type'.\n",
      "  _np_qint8 = np.dtype([(\"qint8\", np.int8, 1)])\n",
      "/home/jarbasjr/.local/lib/python3.6/site-packages/tensorflow/python/framework/dtypes.py:517: FutureWarning: Passing (type, 1) or '1type' as a synonym of type is deprecated; in a future version of numpy, it will be understood as (type, (1,)) / '(1,)type'.\n",
      "  _np_quint8 = np.dtype([(\"quint8\", np.uint8, 1)])\n",
      "/home/jarbasjr/.local/lib/python3.6/site-packages/tensorflow/python/framework/dtypes.py:518: FutureWarning: Passing (type, 1) or '1type' as a synonym of type is deprecated; in a future version of numpy, it will be understood as (type, (1,)) / '(1,)type'.\n",
      "  _np_qint16 = np.dtype([(\"qint16\", np.int16, 1)])\n",
      "/home/jarbasjr/.local/lib/python3.6/site-packages/tensorflow/python/framework/dtypes.py:519: FutureWarning: Passing (type, 1) or '1type' as a synonym of type is deprecated; in a future version of numpy, it will be understood as (type, (1,)) / '(1,)type'.\n",
      "  _np_quint16 = np.dtype([(\"quint16\", np.uint16, 1)])\n",
      "/home/jarbasjr/.local/lib/python3.6/site-packages/tensorflow/python/framework/dtypes.py:520: FutureWarning: Passing (type, 1) or '1type' as a synonym of type is deprecated; in a future version of numpy, it will be understood as (type, (1,)) / '(1,)type'.\n",
      "  _np_qint32 = np.dtype([(\"qint32\", np.int32, 1)])\n",
      "/home/jarbasjr/.local/lib/python3.6/site-packages/tensorflow/python/framework/dtypes.py:525: FutureWarning: Passing (type, 1) or '1type' as a synonym of type is deprecated; in a future version of numpy, it will be understood as (type, (1,)) / '(1,)type'.\n",
      "  np_resource = np.dtype([(\"resource\", np.ubyte, 1)])\n",
      "/home/jarbasjr/.local/lib/python3.6/site-packages/tensorboard/compat/tensorflow_stub/dtypes.py:541: FutureWarning: Passing (type, 1) or '1type' as a synonym of type is deprecated; in a future version of numpy, it will be understood as (type, (1,)) / '(1,)type'.\n",
      "  _np_qint8 = np.dtype([(\"qint8\", np.int8, 1)])\n",
      "/home/jarbasjr/.local/lib/python3.6/site-packages/tensorboard/compat/tensorflow_stub/dtypes.py:542: FutureWarning: Passing (type, 1) or '1type' as a synonym of type is deprecated; in a future version of numpy, it will be understood as (type, (1,)) / '(1,)type'.\n",
      "  _np_quint8 = np.dtype([(\"quint8\", np.uint8, 1)])\n",
      "/home/jarbasjr/.local/lib/python3.6/site-packages/tensorboard/compat/tensorflow_stub/dtypes.py:543: FutureWarning: Passing (type, 1) or '1type' as a synonym of type is deprecated; in a future version of numpy, it will be understood as (type, (1,)) / '(1,)type'.\n",
      "  _np_qint16 = np.dtype([(\"qint16\", np.int16, 1)])\n",
      "/home/jarbasjr/.local/lib/python3.6/site-packages/tensorboard/compat/tensorflow_stub/dtypes.py:544: FutureWarning: Passing (type, 1) or '1type' as a synonym of type is deprecated; in a future version of numpy, it will be understood as (type, (1,)) / '(1,)type'.\n",
      "  _np_quint16 = np.dtype([(\"quint16\", np.uint16, 1)])\n",
      "/home/jarbasjr/.local/lib/python3.6/site-packages/tensorboard/compat/tensorflow_stub/dtypes.py:545: FutureWarning: Passing (type, 1) or '1type' as a synonym of type is deprecated; in a future version of numpy, it will be understood as (type, (1,)) / '(1,)type'.\n",
      "  _np_qint32 = np.dtype([(\"qint32\", np.int32, 1)])\n",
      "/home/jarbasjr/.local/lib/python3.6/site-packages/tensorboard/compat/tensorflow_stub/dtypes.py:550: FutureWarning: Passing (type, 1) or '1type' as a synonym of type is deprecated; in a future version of numpy, it will be understood as (type, (1,)) / '(1,)type'.\n",
      "  np_resource = np.dtype([(\"resource\", np.ubyte, 1)])\n"
     ]
    }
   ],
   "source": [
    "import numpy as np\n",
    "import pandas as pd\n",
    "import pandas_datareader.data as web\n",
    "from datetime import datetime\n",
    "import yfinance as yf\n",
    "from fancyimpute import KNN\n",
    "\n",
    "\n",
    "pd.set_option('display.width', 1000)\n",
    "pd.set_option('display.max_columns', None)\n",
    "pd.set_option('display.max_rows', None)"
   ]
  },
  {
   "cell_type": "markdown",
   "metadata": {},
   "source": [
    "# DADOS FUNDAMENTALISTAS - FUNDAMENTUS\n",
    "\n",
    "Ao fazer o download do site da Fundamentus, os dados vem em formato excel, então pegamos e convertemos facilmente para cvs.\n",
    "\n",
    "Aqui trazemos o csv da ação para o notebook. Ele necessita do \".T\" para que ele faça uma transposição, pois os atributos estavam nas linhas e as amostras nas colunas, assim invertemos isso, ficando no formato convencional utilizado.\n",
    "\n",
    "Após, dropamos uma coluna inútil.\n",
    "\n",
    "A coluna que mostra as datas, que estão separadas por trimestre, fica com um título NaN e está na primeira posição das colunas, assim precisamos atribuir o devido nome a coluna.\n",
    "\n",
    "Assim, criamos uma coluna chamada \"Data Trimeste\", ao que lhe é atribuida as datas, e na sequência deletamos a coluna com o títlo NaN, através do iloc que engloba apenas colunas que tenham título \"notnull\"(naõ nulos).\n",
    "\n",
    "\n",
    "A coluna \"Data Trimestre\" fica posicionada como última coluna do dataset, para ficar mais claro, apagamos, colocamos em uma variavel auxiliar, e a inserimos na primeira posição das colunas."
   ]
  },
  {
   "cell_type": "code",
   "execution_count": 2,
   "metadata": {},
   "outputs": [],
   "source": [
    "########################## COMEÇA O CÓDIGO QUE EXTRAI OS DADOS FUNDAMENTALISTAS ##########################\n",
    "\n",
    "fundamental_data = pd.read_csv(\"cyre3.csv\",index_col=0, header=None).T\n",
    "fundamental_data.drop(columns = 'XLSWrite 1.34 Copyright(c) 1999,2000 Axolot Data', inplace = True)\n",
    "\n",
    "\n",
    "fundamental_data['Data Trimestre'] = fundamental_data.iloc[0:,0]\n",
    "fundamental_data = fundamental_data.iloc[:, fundamental_data.columns.notnull()]\n",
    "\n",
    "data = fundamental_data['Data Trimestre']\n",
    "fundamental_data.drop(labels=['Data Trimestre'], axis=1,inplace = True)\n",
    "fundamental_data.insert(0, 'Data Trimestre', data)\n",
    "\n",
    "\n",
    "fundamental_data.head()"
   ]
  },
  {
   "cell_type": "markdown",
   "metadata": {},
   "source": [
    "Aqui é o processo de manipulação das datas, muito importante na execução do code.\n",
    "\n",
    "Primeiro utilizamos pd.to_datetime, função própria do Pandas para que ele entenda o formato e de que se trata de informações sobre data.\n",
    "\n",
    "Subdividimos em colunas distintas, informações sobre \"Dia\", \"Mês\" e \"Ano\", logo a coluna \"Data Trimestre\" já não nos era mais útil.\n",
    "\n",
    "Assim, novamente colocamos as três novas colunas em váriaveis auxiliares, para posiciona-las nas primeiras colunas do dataset."
   ]
  },
  {
   "cell_type": "code",
   "execution_count": null,
   "metadata": {},
   "outputs": [],
   "source": [
    "\n",
    "fundamental_data['Data Trimestre'] = pd.to_datetime(fundamental_data['Data Trimestre'].str.strip(), format='%d/%m/%Y')\n",
    "\n",
    "\n",
    "fundamental_data[\"Day\"] = fundamental_data['Data Trimestre'].map(lambda x: x.day)\n",
    "fundamental_data[\"Month\"] = fundamental_data['Data Trimestre'].map(lambda x: x.month)\n",
    "fundamental_data[\"Year\"] = fundamental_data['Data Trimestre'].map(lambda x: x.year)\n",
    "\n",
    "fundamental_data.drop(columns = 'Data Trimestre', inplace = True)\n",
    "\n",
    "year = fundamental_data['Year']\n",
    "fundamental_data.drop(labels=['Year'], axis=1,inplace = True)\n",
    "fundamental_data.insert(0, 'Year', year)\n",
    "\n",
    "month = fundamental_data['Month']\n",
    "fundamental_data.drop(labels=['Month'], axis=1,inplace = True)\n",
    "fundamental_data.insert(1, 'Month', month)\n",
    "\n",
    "day = fundamental_data['Day']\n",
    "fundamental_data.drop(labels=['Day'], axis=1,inplace = True)\n",
    "fundamental_data.insert(2, 'Day', day)\n",
    "\n",
    "\n",
    "fundamental_data.head()"
   ]
  },
  {
   "cell_type": "markdown",
   "metadata": {},
   "source": [
    "Essa é uma parte bem crítica, resetamos o índice(para que ele fique com a contagem correta de 0 até o total de linhas). E você deve estar se perguntando: por quê pegar o dataset a partir da 4 posição ?\n",
    "\n",
    "Esse dataset está em formato descrescente com base nas datas, então, la no final do projeto, quando formos comparar os algortimos de classificação com a série temporal, para validação temos que comparar com dados que já ocorreram, par ter uma noção do desempenho.\n",
    "\n",
    "Lembrando que se pegassemos de 0:, nesse caso, ele ia predizer dados a partir do 3T de 2018 até o 3T de 2019, sendo que o TCC estava sendo feito nessa época, então não tinhamos os dados reais necessarios para comparação, então por fins logisticos, reduzimos a ánalise um ano antes, para ao final do trabalho, quando compararmos os fundamentus e os algortimos de classificação com as séries temporais e a LSTM tenhamos tranquilidade para comparar com dados que ocorreram de fato para se ter uma boa base para inferir desempenho e tirar conclusões."
   ]
  },
  {
   "cell_type": "code",
   "execution_count": null,
   "metadata": {},
   "outputs": [],
   "source": [
    "fundamental_data.reset_index(drop=True, inplace=True)\n",
    "fundamental_data = fundamental_data[0:42]\n",
    "fundamental_data.reset_index(drop=True, inplace=True)\n",
    "\n",
    "fundamental_data.head()"
   ]
  },
  {
   "cell_type": "markdown",
   "metadata": {},
   "source": [
    "Para fins didáticos, criei uma coluna \"Quarter\" que indica qual trimestre corresponde aquela linha, e a posicionei na primeira posição das colunas."
   ]
  },
  {
   "cell_type": "code",
   "execution_count": null,
   "metadata": {},
   "outputs": [],
   "source": [
    "fundamental_data['Quarter'] = '2Q2019','1Q2019', '4Q2018', '3Q2018', '2Q2018', '1Q2018', '4Q2017', '3Q2017', '2Q2017', '1Q2017', '4Q2016', '3Q2016', '2Q2016', '1Q2016', '4Q2015', '3Q2015', '2Q2015', '1Q2015','4Q2014', '3Q2014', '2Q2014', '1Q2014', '4Q2013', '3Q2013', '2Q2013', '1Q2013', '4Q2012', '3Q2012', '2Q2012', '1Q2012', '4Q2011', '3Q2011', '2Q2011', '1Q2011', '4Q2010', '3Q2010', '2Q2010', '1Q2010', '4Q2009', '3Q2009', '2Q2009', '1Q2009'\n",
    "quarter = fundamental_data['Quarter']\n",
    "fundamental_data.drop(labels=['Quarter'], axis=1, inplace=True)\n",
    "fundamental_data.insert(0, 'Quarter', quarter)\n",
    "\n",
    "fundamental_data.head()"
   ]
  },
  {
   "cell_type": "markdown",
   "metadata": {},
   "source": [
    "Renomeei a coluna \"Month\" para \"Cluster_Month\", pois como se trata de trimestre, ele agrupa ali três meses correspondentes áquele trimestre, então sabemos que colunas onde tem Cluster_Month 3, englona na verdade, os meses 1,2 e 3. E assim por diante com os demais.\n",
    "\n",
    "A coluna dia não nos é mais útil aqui, então tiramos a coluna."
   ]
  },
  {
   "cell_type": "code",
   "execution_count": null,
   "metadata": {},
   "outputs": [],
   "source": [
    "fundamental_data.rename(columns={'Month' : 'Cluster_Month'},inplace = True)\n",
    "fundamental_data.drop('Day', axis=1, inplace=True)\n",
    "\n",
    "fundamental_data.head()"
   ]
  },
  {
   "cell_type": "markdown",
   "metadata": {},
   "source": [
    "Correção de processamento, os dados vieram com \"pontos\" o que inviabiliza a manipulação númerica que o pandas compreende, assim tivemos que remover os pontos e atribuir o formato float, anteriormente veio com formato string.\n",
    "\n",
    "Assim podemos ver a disposição dos números em relação a tabela gerada pela célula abaixo e a que tinhamos antes."
   ]
  },
  {
   "cell_type": "code",
   "execution_count": null,
   "metadata": {},
   "outputs": [],
   "source": [
    "for key in ['Ativo Total','Ativo Circulante','Caixa e Equivalentes de Caixa AC','Aplicações Financeiras AC','Contas a Receber AC','Estoques AC', 'Ativos Biológicos AC','Tributos a Recuperar AC','Despesas Antecipadas AC','Outros Ativos Circulantes AC','Ativo Realizavel Longo Prazo ','Aplicações Financeiras Avaliadas a Valor Justo ACLP','Aplicações Financeiras Avaliadas ao Custo Amortizado ACLP','Contas a Receber ACLP','Estoques ACLP','Ativos Biológicos ACLP','Tributos Diferidos ACLP','Despesas Antecipadas ACLP','Créditos com Partes Relacionadas ACLP','Outros Ativos Não Circulantes ACLP','Investimentos','Imobilizado','Intangível','Diferido','Passivo Total','Passivo Circulante','Obrigações Sociais e Trabalhistas PC','Fornecedores PC','Obrigações Fiscais PC','Empréstimos e Financiamentos PC','Passivos com Partes Relacionadas PC','Dividendos e JCP a Pagar PC','Outros PC','Provisões PC', 'Passivos sobre Ativos Não-Correntes a Venda e Descontinuados PC', 'Passivo Não Circulante','Empréstimos e Financiamentos PNC','Passivos com Partes Relacionadas PNC','Outros PNC','Tributos Diferidos PNC','Adiantamento para Futuro Aumento Capital PNC','Provisões PNC','Passivos sobre Ativos Não-Correntes a Venda e Descontinuados PNC','Lucros e Receitas a Apropriar PNC','Participação dos Acionistas Não Controladores','Patrimônio Líquido','Capital Social Realizado','Reservas de Capital','Reservas de Reavaliação','Reservas de Lucros','Lucros/Prejuízos Acumulados','Ajustes de Avaliação Patrimonial','Ajustes Acumulados de Conversão','Outros Resultados Abrangentes','Adiantamento para Futuro Aumento Capital']:  \n",
    "    fundamental_data[key] = fundamental_data[key].map(lambda x: str(x).replace(\".\", \"\"))\n",
    "    fundamental_data[key] = fundamental_data[key].astype(float)\n",
    "\n",
    "\n",
    "fundamental_data.head()"
   ]
  },
  {
   "cell_type": "markdown",
   "metadata": {},
   "source": [
    "# DADOS DE PREÇO - API YAHOO FINANCE\n",
    "\n",
    "Após determinandos os dados fundamentalistas da ação, chegou a hora de extrairmos os dados de preço da API aberta da Yahoo Finance.\n",
    "\n",
    "Lembrando que temos que convertê-las ao formato de escala tempora de trimestre, para que possamos concatêna-las aos dados fundamentalistas, formando um dataset único da ação. Dados de preço e dados fundamentalistas referentes ao mesmo espaço temporal para cada amostra.\n",
    "\n",
    "Abaixo, primeiro atribuimos a data de inicio e de fim que coletaremos os dados de preço, e depois trazemos o dataset com base nas datas, e 'm' nos diz respeito a escala temporal mês, como não há trimestre, tivemos que fazer a seguir a manipulação no código, com base nos dados originalmente mensais vindo da API."
   ]
  },
  {
   "cell_type": "code",
   "execution_count": null,
   "metadata": {},
   "outputs": [],
   "source": [
    "####################### COMEÇA O CÓDIGO QUE EXTRAI DADOS DE PREÇO ###############################\n",
    "\n",
    "start = datetime(2008, 12, 31)\n",
    "end = datetime(2019, 5, 31)\n",
    "price_data = web.get_data_yahoo('CYRE3.SA', start, end, interval = 'm')\n",
    "\n",
    "price_data.head()"
   ]
  },
  {
   "cell_type": "markdown",
   "metadata": {},
   "source": [
    "As datas na coluna \"Date\" estavam como índíce, e usamos o code abaixo para tornar \"Date\" uma coluna normal do dataset, já que vamos precisar manipula-la."
   ]
  },
  {
   "cell_type": "code",
   "execution_count": null,
   "metadata": {},
   "outputs": [],
   "source": [
    "price_data[\"Date\"] = price_data.index\n",
    "price_data.reset_index(drop=True, inplace=True)\n",
    "\n",
    "\n",
    "date = price_data['Date']\n",
    "price_data.drop(labels=['Date'], axis=1,inplace = True)\n",
    "price_data.insert(0, 'Date', date)\n",
    "\n",
    "price_data.head()"
   ]
  },
  {
   "cell_type": "markdown",
   "metadata": {},
   "source": [
    "Aqui começa a manipulação para transformarmos os dados de preço de escala mensal para escala trimestral.\n",
    "\n",
    "Tal qual nos dados fundamentalistas, da coluna Date, criamos as colunas referentes a \"dia\", \"mês\" e \"ano\". Assim a coluna Date não nos é mais útil.\n",
    "\n",
    "Manipulamos para colocar as três colunas referentes a data nas três primeiras posições das colunas no dataset."
   ]
  },
  {
   "cell_type": "code",
   "execution_count": null,
   "metadata": {},
   "outputs": [],
   "source": [
    "price_data[\"Day\"] = price_data['Date'].map(lambda x: x.day)\n",
    "price_data[\"Month\"] = price_data['Date'].map(lambda x: x.month)\n",
    "price_data[\"Year\"] = price_data['Date'].map(lambda x: x.year)\n",
    "\n",
    "price_data.drop(columns = 'Date', inplace = True)\n",
    "\n",
    "\n",
    "\n",
    "year = price_data['Year']\n",
    "price_data.drop(labels=['Year'], axis=1,inplace = True)\n",
    "price_data.insert(0, 'Year', year)\n",
    "\n",
    "month = price_data['Month']\n",
    "price_data.drop(labels=['Month'], axis=1,inplace = True)\n",
    "price_data.insert(1, 'Month', month)\n",
    "\n",
    "day = price_data['Day']\n",
    "price_data.drop(labels=['Day'], axis=1,inplace = True)\n",
    "price_data.insert(2, 'Day', day)\n",
    "\n",
    "price_data.head()"
   ]
  },
  {
   "cell_type": "markdown",
   "metadata": {},
   "source": [
    "Nessa parte, o \"for\" percorre todas as linhas do dataset, e tal qual no padrão dos dados fundamentalistas, temos que atribuir aquele padrão que chamei de \"Cluster_Month\", onde o mês 3 representa o trimestre dos meses 1,2 e 3. Mês 6 o trimestre dos meses 4,5 e 6. E assim por diante.\n",
    "\n",
    "Após, deletamos a coluna \"dia\", que não nos é útil."
   ]
  },
  {
   "cell_type": "code",
   "execution_count": null,
   "metadata": {},
   "outputs": [],
   "source": [
    "for i,row in price_data.iterrows():   \n",
    "    if (row['Month'] == 1) | (row['Month'] == 2) | (row['Month'] == 3):\n",
    "        price_data.loc[i,'Month'] = 3\n",
    "    \n",
    "    elif (row['Month'] == 4) | (row['Month'] == 5) | (row['Month'] == 6):\n",
    "         price_data.loc[i,'Month'] = 6\n",
    "        \n",
    "    elif (row['Month'] == 7) | (row['Month'] == 8) | (row['Month'] == 9):\n",
    "         price_data.loc[i,'Month'] = 9\n",
    "        \n",
    "    else: \n",
    "          price_data.loc[i,'Month'] = 12\n",
    "\n",
    "\n",
    "\n",
    "price_data.drop('Day', axis=1, inplace=True)\n",
    "\n",
    "price_data.head()"
   ]
  },
  {
   "cell_type": "markdown",
   "metadata": {},
   "source": [
    "E aqui tempos uma parte bem interessante. Agora agrupamos cada uma das três linhas correspondentes ao trimestre do ano correspondente.\n",
    "\n",
    "Podemos olhar juntos para a primeira instrução abaixo e para a tabela acima para entender. Agrupamos por Ano e Mês, assim podemos ver as três primeiras linhas com \"Month\" igual a 3(na verdade são 1,2 e 3) que foram manipulados para facilitar esse processo. Então iremos agrupar essas três linhas, transformando em uma linha só correspondente ao primeiro trimestre de 2014 nesse caso. E assim convertemos os parâmetros de preço conforme suas especificidades.\n",
    "\n",
    "- Abertura(Open): Utilização do método “first”, atribuindo o primeiro valor do trimestre.\n",
    "   \n",
    "- Fechamento(Close): Utilização do método “last”, atribuindo o último valor do trimestre.\n",
    "      \n",
    "- Máximo(High):Utilização do método “max”, atribuindo o máximo valor do trimestre.\n",
    " \n",
    "- Mínimo(Low):Utilização do método “min”, atribuindo o mínimo valor do trimestre.\n",
    "\n",
    "- Volume(Volume): Utilização do método “mean”, atribuindo a média dos valores do trimestre.\n",
    "\n",
    "- Fechamento Ajustado(Adj Close):Utilização do método “mean”, atribuindo a média dos valores do trimestre.\n",
    "\n",
    "\n",
    "\n",
    "Depois, novamente o processo de criar uma coluna \"Quartes\" com uma identificação mais intuitiva do trimestre e ano, e coloca-lo como a primeira posição das colunas.\n",
    "\n",
    "Além de renomear a coluna \"Month\" para \"Cluster_Month\", tudo no mesmo padrão dos dados fundamentalistas."
   ]
  },
  {
   "cell_type": "code",
   "execution_count": null,
   "metadata": {},
   "outputs": [],
   "source": [
    "final_data_price = price_data.groupby(['Year','Month']).agg({'High': 'max', 'Low': 'min', 'Open':'first', 'Close' : 'last', 'Volume':'mean', 'Adj Close':'mean'}).reset_index()\n",
    "\n",
    "\n",
    "final_data_price['Quarter'] = '1Q2009', '2Q2009', '3Q2009', '4Q2009', '1Q2010', '2Q2010', '3Q2010', '4Q2010', '1Q2011', '2Q2011', '3Q2011', '4Q2011', '1Q2012', '2Q2012', '3Q2012','4Q2012', '1Q2013', '2Q2013', '3Q2013', '4Q2013', '1Q2014', '2Q2014', '3Q2014', '4Q2014', '1Q2015', '2Q2015', '3Q2015', '4Q2015', '1Q2016', '2Q2016', '3Q2016', '4Q2016', '1Q2017', '2Q2017', '3Q2017', '4Q2017', '1Q2018', '2Q2018', '3Q2018', '4Q2018','1Q2019','2Q2019'\n",
    "\n",
    "quarter = final_data_price['Quarter']\n",
    "final_data_price.drop(labels=['Quarter'], axis=1, inplace=True)\n",
    "final_data_price.insert(0, 'Quarter', quarter)\n",
    "\n",
    "final_data_price.rename(columns={'Month' : 'Cluster_Month'},inplace = True)\n",
    "\n",
    "final_data_price.head()"
   ]
  },
  {
   "cell_type": "markdown",
   "metadata": {},
   "source": [
    "# UNINDO DADOS DE PREÇO E DADOS FUNDAMENTALISTAS\n",
    "\n",
    "Simplesmente fazendo um merge entre os dados de preço e fundamentalistas que tratamos até aqui.\n",
    "\n",
    "A coluna \"Year\" e \"Month\" ficará repetida, então precisaremos renomear cada uma e excluir as outras duas que são a mesma coisa."
   ]
  },
  {
   "cell_type": "code",
   "execution_count": null,
   "metadata": {},
   "outputs": [],
   "source": [
    "# MESCLA DOS DADOS DE PREÇO E OS FUNDAMENTALISTAS\n",
    "\n",
    "dataset = pd.merge(final_data_price, fundamental_data, how='left', on='Quarter')\n",
    "\n",
    "dataset.rename(columns={'Year_x' : 'Year'},inplace = True)\n",
    "dataset.rename(columns={'Cluster_Month_x' : 'Cluster_Month'},inplace = True)\n",
    "\n",
    "dataset.drop('Year_y', axis=1, inplace=True)\n",
    "\n",
    "dataset.drop('Cluster_Month_y', axis=1, inplace=True)\n",
    "\n",
    "dataset.head()"
   ]
  },
  {
   "cell_type": "markdown",
   "metadata": {},
   "source": [
    "Ao analisar o dataset, decidi excluir colunas que tinha mais de 1/3 dos dados faltantes, seguindo a lista abaixo de colunas \"dropadas\"."
   ]
  },
  {
   "cell_type": "code",
   "execution_count": 3,
   "metadata": {},
   "outputs": [],
   "source": [
    "# exclui colunas que tem mais de 1/3 dos dados como zero ou faltante\n",
    "dataset = dataset.drop('Ativos Biológicos AC',axis=1)\n",
    "dataset = dataset.drop('Despesas Antecipadas AC',axis=1)\n",
    "dataset = dataset.drop('Aplicações Financeiras Avaliadas a Valor Justo ACLP',axis=1)\n",
    "dataset = dataset.drop('Aplicações Financeiras Avaliadas ao Custo Amortizado ACLP',axis=1)\n",
    "dataset = dataset.drop('Estoques ACLP',axis=1)\n",
    "dataset = dataset.drop('Ativos Biológicos ACLP',axis=1)\n",
    "dataset = dataset.drop('Despesas Antecipadas ACLP',axis=1)\n",
    "dataset = dataset.drop('Créditos com Partes Relacionadas ACLP',axis=1)\n",
    "dataset = dataset.drop('Diferido',axis=1)\n",
    "dataset = dataset.drop('Passivos com Partes Relacionadas PC',axis=1)\n",
    "dataset = dataset.drop('Dividendos e JCP a Pagar PC',axis=1)\n",
    "dataset = dataset.drop('Provisões PC',axis=1)\n",
    "dataset = dataset.drop('Passivos sobre Ativos Não-Correntes a Venda e Descontinuados PC',axis=1)\n",
    "dataset = dataset.drop('Passivos com Partes Relacionadas PNC',axis=1)\n",
    "dataset = dataset.drop('Adiantamento para Futuro Aumento Capital PNC',axis=1)\n",
    "dataset = dataset.drop('Passivos sobre Ativos Não-Correntes a Venda e Descontinuados PNC',axis=1)\n",
    "dataset = dataset.drop('Lucros e Receitas a Apropriar PNC',axis=1)\n",
    "dataset = dataset.drop('Reservas de Reavaliação',axis=1)\n",
    "dataset = dataset.drop('Ajustes de Avaliação Patrimonial',axis=1)\n",
    "dataset = dataset.drop('Ajustes Acumulados de Conversão',axis=1)\n",
    "dataset = dataset.drop('Outros Resultados Abrangentes',axis=1)\n",
    "dataset = dataset.drop('Adiantamento para Futuro Aumento Capital',axis=1)"
   ]
  },
  {
   "cell_type": "markdown",
   "metadata": {},
   "source": [
    "# APLICAÇÃO DO ALGORTIMO KNN PARA PREENCHIMENTO DOS DADOS FALTANTES\n",
    "\n",
    "Abaixo, separei apenas as colunas que serão imputadas para treinamento, tirando as de data e os id's. Assim ao invés de um método tradicional como preencher dados faltantes com média ou mediana, utilizei a metodologia com a biblioteca fancy impute, para aplicar KNN e preencher os dados faltantes com esse algortimo.\n",
    "\n",
    "Na célula abaixo a separação.\n",
    "\n",
    "Após trocar os valores 0 para \"NaN\", então realizamos o preenchimento de fato com o KNN."
   ]
  },
  {
   "cell_type": "code",
   "execution_count": 4,
   "metadata": {},
   "outputs": [
    {
     "name": "stdout",
     "output_type": "stream",
     "text": [
      "Imputing row 1/42 with 6 missing, elapsed time: 0.003\n"
     ]
    },
    {
     "data": {
      "text/html": [
       "<div>\n",
       "<style scoped>\n",
       "    .dataframe tbody tr th:only-of-type {\n",
       "        vertical-align: middle;\n",
       "    }\n",
       "\n",
       "    .dataframe tbody tr th {\n",
       "        vertical-align: top;\n",
       "    }\n",
       "\n",
       "    .dataframe thead th {\n",
       "        text-align: right;\n",
       "    }\n",
       "</style>\n",
       "<table border=\"1\" class=\"dataframe\">\n",
       "  <thead>\n",
       "    <tr style=\"text-align: right;\">\n",
       "      <th></th>\n",
       "      <th>Quarter</th>\n",
       "      <th>Year</th>\n",
       "      <th>Cluster_Month</th>\n",
       "      <th>High</th>\n",
       "      <th>Low</th>\n",
       "      <th>Open</th>\n",
       "      <th>Close</th>\n",
       "      <th>Volume</th>\n",
       "      <th>Adj Close</th>\n",
       "      <th>Ativo Total</th>\n",
       "      <th>Ativo Circulante</th>\n",
       "      <th>Caixa e Equivalentes de Caixa AC</th>\n",
       "      <th>Aplicações Financeiras AC</th>\n",
       "      <th>Contas a Receber AC</th>\n",
       "      <th>Estoques AC</th>\n",
       "      <th>Tributos a Recuperar AC</th>\n",
       "      <th>Outros Ativos Circulantes AC</th>\n",
       "      <th>Ativo Realizavel Longo Prazo</th>\n",
       "      <th>Contas a Receber ACLP</th>\n",
       "      <th>Tributos Diferidos ACLP</th>\n",
       "      <th>Outros Ativos Não Circulantes ACLP</th>\n",
       "      <th>Investimentos</th>\n",
       "      <th>Imobilizado</th>\n",
       "      <th>Intangível</th>\n",
       "      <th>Passivo Total</th>\n",
       "      <th>Passivo Circulante</th>\n",
       "      <th>Obrigações Sociais e Trabalhistas PC</th>\n",
       "      <th>Fornecedores PC</th>\n",
       "      <th>Obrigações Fiscais PC</th>\n",
       "      <th>Empréstimos e Financiamentos PC</th>\n",
       "      <th>Outros PC</th>\n",
       "      <th>Passivo Não Circulante</th>\n",
       "      <th>Empréstimos e Financiamentos PNC</th>\n",
       "      <th>Outros PNC</th>\n",
       "      <th>Tributos Diferidos PNC</th>\n",
       "      <th>Provisões PNC</th>\n",
       "      <th>Participação dos Acionistas Não Controladores</th>\n",
       "      <th>Patrimônio Líquido</th>\n",
       "      <th>Capital Social Realizado</th>\n",
       "      <th>Reservas de Capital</th>\n",
       "      <th>Reservas de Lucros</th>\n",
       "      <th>Lucros/Prejuízos Acumulados</th>\n",
       "    </tr>\n",
       "  </thead>\n",
       "  <tbody>\n",
       "    <tr>\n",
       "      <td>41</td>\n",
       "      <td>2Q2019</td>\n",
       "      <td>2019</td>\n",
       "      <td>6</td>\n",
       "      <td>17.78</td>\n",
       "      <td>15.26</td>\n",
       "      <td>16.4</td>\n",
       "      <td>17.44</td>\n",
       "      <td>6.14055e+07</td>\n",
       "      <td>17.034</td>\n",
       "      <td>9.77233e+06</td>\n",
       "      <td>5.69387e+06</td>\n",
       "      <td>140592</td>\n",
       "      <td>1.13347e+06</td>\n",
       "      <td>1.42675e+06</td>\n",
       "      <td>2.89137e+06</td>\n",
       "      <td>28896</td>\n",
       "      <td>70458</td>\n",
       "      <td>3.19443e+06</td>\n",
       "      <td>524435</td>\n",
       "      <td>816</td>\n",
       "      <td>207343</td>\n",
       "      <td>785950</td>\n",
       "      <td>76881</td>\n",
       "      <td>21200</td>\n",
       "      <td>9.77233e+06</td>\n",
       "      <td>1.81598e+06</td>\n",
       "      <td>46365</td>\n",
       "      <td>161076</td>\n",
       "      <td>59049</td>\n",
       "      <td>267899</td>\n",
       "      <td>1.01549e+06</td>\n",
       "      <td>2.27576e+06</td>\n",
       "      <td>1.72374e+06</td>\n",
       "      <td>189665</td>\n",
       "      <td>52997</td>\n",
       "      <td>499031</td>\n",
       "      <td>372817</td>\n",
       "      <td>5.30778e+06</td>\n",
       "      <td>3.39574e+06</td>\n",
       "      <td>-71719</td>\n",
       "      <td>1.82122e+06</td>\n",
       "      <td>162244</td>\n",
       "    </tr>\n",
       "  </tbody>\n",
       "</table>\n",
       "</div>"
      ],
      "text/plain": [
       "   Quarter  Year Cluster_Month   High    Low  Open  Close       Volume Adj Close  Ativo Total Ativo Circulante Caixa e Equivalentes de Caixa AC Aplicações Financeiras AC Contas a Receber AC  Estoques AC Tributos a Recuperar AC Outros Ativos Circulantes AC Ativo Realizavel Longo Prazo Contas a Receber ACLP Tributos Diferidos ACLP Outros Ativos Não Circulantes ACLP Investimentos Imobilizado Intangível Passivo Total Passivo Circulante Obrigações Sociais e Trabalhistas PC Fornecedores PC Obrigações Fiscais PC Empréstimos e Financiamentos PC    Outros PC Passivo Não Circulante Empréstimos e Financiamentos PNC Outros PNC Tributos Diferidos PNC Provisões PNC Participação dos Acionistas Não Controladores Patrimônio Líquido Capital Social Realizado Reservas de Capital Reservas de Lucros Lucros/Prejuízos Acumulados\n",
       "41  2Q2019  2019             6  17.78  15.26  16.4  17.44  6.14055e+07    17.034  9.77233e+06      5.69387e+06                           140592               1.13347e+06         1.42675e+06  2.89137e+06                   28896                        70458                  3.19443e+06                524435                     816                             207343        785950       76881      21200   9.77233e+06        1.81598e+06                                46365          161076                 59049                          267899  1.01549e+06            2.27576e+06                      1.72374e+06     189665                  52997        499031                                        372817        5.30778e+06              3.39574e+06              -71719        1.82122e+06                      162244"
      ]
     },
     "execution_count": 4,
     "metadata": {},
     "output_type": "execute_result"
    }
   ],
   "source": [
    "#separa as colunas que serão usadas para treinamento em 'dataset'\n",
    "pricing = dataset.iloc[0:,0:3]\n",
    "dataset = dataset.iloc[0:,3:]\n",
    "dataset.to_numpy()\n",
    "\n",
    "X = dataset.replace(0, np.nan, inplace=True)\n",
    "dataset.replace(0, np.nan, inplace=True)\n",
    "final_data = KNN(k=3).fit_transform(dataset)\n",
    "\n",
    "# ela tira as labels das colunas e aqui as coloco de volta\n",
    "dataset = pd.DataFrame(data = final_data, columns = ['High','Low','Open','Close','Volume','Adj Close','Ativo Total','Ativo Circulante','Caixa e Equivalentes de Caixa AC','Aplicações Financeiras AC','Contas a Receber AC','Estoques AC','Tributos a Recuperar AC','Outros Ativos Circulantes AC','Ativo Realizavel Longo Prazo','Contas a Receber ACLP','Tributos Diferidos ACLP','Outros Ativos Não Circulantes ACLP','Investimentos','Imobilizado','Intangível','Passivo Total','Passivo Circulante','Obrigações Sociais e Trabalhistas PC','Fornecedores PC','Obrigações Fiscais PC','Empréstimos e Financiamentos PC','Outros PC','Passivo Não Circulante','Empréstimos e Financiamentos PNC','Outros PNC','Tributos Diferidos PNC','Provisões PNC','Participação dos Acionistas Não Controladores','Patrimônio Líquido','Capital Social Realizado','Reservas de Capital','Reservas de Lucros','Lucros/Prejuízos Acumulados'])\n",
    "dataset = pd.concat([pricing, dataset], axis=1)\n",
    "\n",
    "inference = dataset.iloc[-1,0:].to_frame().T\n",
    "inference"
   ]
  },
  {
   "cell_type": "code",
   "execution_count": 5,
   "metadata": {
    "scrolled": true
   },
   "outputs": [
    {
     "name": "stdout",
     "output_type": "stream",
     "text": [
      "<class 'pandas.core.frame.DataFrame'>\n",
      "Int64Index: 42 entries, 0 to 41\n",
      "Data columns (total 42 columns):\n",
      "Quarter                                          42 non-null object\n",
      "Year                                             42 non-null int64\n",
      "Cluster_Month                                    42 non-null int64\n",
      "High                                             42 non-null float64\n",
      "Low                                              42 non-null float64\n",
      "Open                                             42 non-null float64\n",
      "Close                                            42 non-null float64\n",
      "Volume                                           42 non-null float64\n",
      "Adj Close                                        42 non-null float64\n",
      "Ativo Total                                      42 non-null float64\n",
      "Ativo Circulante                                 42 non-null float64\n",
      "Caixa e Equivalentes de Caixa AC                 42 non-null float64\n",
      "Aplicações Financeiras AC                        42 non-null float64\n",
      "Contas a Receber AC                              42 non-null float64\n",
      "Estoques AC                                      42 non-null float64\n",
      "Tributos a Recuperar AC                          42 non-null float64\n",
      "Outros Ativos Circulantes AC                     42 non-null float64\n",
      "Ativo Realizavel Longo Prazo                     42 non-null float64\n",
      "Contas a Receber ACLP                            42 non-null float64\n",
      "Tributos Diferidos ACLP                          42 non-null float64\n",
      "Outros Ativos Não Circulantes ACLP               42 non-null float64\n",
      "Investimentos                                    42 non-null float64\n",
      "Imobilizado                                      42 non-null float64\n",
      "Intangível                                       42 non-null float64\n",
      "Passivo Total                                    42 non-null float64\n",
      "Passivo Circulante                               42 non-null float64\n",
      "Obrigações Sociais e Trabalhistas PC             42 non-null float64\n",
      "Fornecedores PC                                  42 non-null float64\n",
      "Obrigações Fiscais PC                            42 non-null float64\n",
      "Empréstimos e Financiamentos PC                  42 non-null float64\n",
      "Outros PC                                        42 non-null float64\n",
      "Passivo Não Circulante                           42 non-null float64\n",
      "Empréstimos e Financiamentos PNC                 42 non-null float64\n",
      "Outros PNC                                       42 non-null float64\n",
      "Tributos Diferidos PNC                           42 non-null float64\n",
      "Provisões PNC                                    42 non-null float64\n",
      "Participação dos Acionistas Não Controladores    42 non-null float64\n",
      "Patrimônio Líquido                               42 non-null float64\n",
      "Capital Social Realizado                         42 non-null float64\n",
      "Reservas de Capital                              42 non-null float64\n",
      "Reservas de Lucros                               42 non-null float64\n",
      "Lucros/Prejuízos Acumulados                      42 non-null float64\n",
      "dtypes: float64(39), int64(2), object(1)\n",
      "memory usage: 15.4+ KB\n"
     ]
    }
   ],
   "source": [
    "dataset.info()"
   ]
  },
  {
   "cell_type": "markdown",
   "metadata": {},
   "source": [
    "# AQUI FINALMENTE PRODUZIMO A NOSSA AMOSTRA QUE SERÁ IMPUTADA AO NOSSO MODELO, SIMULANDO UMA SITUAÇÃO REAL. AO IMPUTAR OS DADOS DE PREÇO E DE FUNDAMENTOS CONFORME OS USADOS NO MODELO, QUAL STATUS DO TARGET ELE RETORNARÁ FRENTE A UMA POSSIVEL VALORIZAÇÃO ?"
   ]
  },
  {
   "cell_type": "code",
   "execution_count": 6,
   "metadata": {},
   "outputs": [
    {
     "data": {
      "text/html": [
       "<div>\n",
       "<style scoped>\n",
       "    .dataframe tbody tr th:only-of-type {\n",
       "        vertical-align: middle;\n",
       "    }\n",
       "\n",
       "    .dataframe tbody tr th {\n",
       "        vertical-align: top;\n",
       "    }\n",
       "\n",
       "    .dataframe thead th {\n",
       "        text-align: right;\n",
       "    }\n",
       "</style>\n",
       "<table border=\"1\" class=\"dataframe\">\n",
       "  <thead>\n",
       "    <tr style=\"text-align: right;\">\n",
       "      <th></th>\n",
       "      <th>High</th>\n",
       "      <th>Low</th>\n",
       "      <th>Open</th>\n",
       "      <th>Close</th>\n",
       "      <th>Volume</th>\n",
       "      <th>Adj Close</th>\n",
       "      <th>Ativo Total</th>\n",
       "      <th>Ativo Circulante</th>\n",
       "      <th>Caixa e Equivalentes de Caixa AC</th>\n",
       "      <th>Aplicações Financeiras AC</th>\n",
       "      <th>Contas a Receber AC</th>\n",
       "      <th>Estoques AC</th>\n",
       "      <th>Tributos a Recuperar AC</th>\n",
       "      <th>Outros Ativos Circulantes AC</th>\n",
       "      <th>Ativo Realizavel Longo Prazo</th>\n",
       "      <th>Contas a Receber ACLP</th>\n",
       "      <th>Tributos Diferidos ACLP</th>\n",
       "      <th>Outros Ativos Não Circulantes ACLP</th>\n",
       "      <th>Investimentos</th>\n",
       "      <th>Imobilizado</th>\n",
       "      <th>Intangível</th>\n",
       "      <th>Passivo Total</th>\n",
       "      <th>Passivo Circulante</th>\n",
       "      <th>Obrigações Sociais e Trabalhistas PC</th>\n",
       "      <th>Fornecedores PC</th>\n",
       "      <th>Obrigações Fiscais PC</th>\n",
       "      <th>Empréstimos e Financiamentos PC</th>\n",
       "      <th>Outros PC</th>\n",
       "      <th>Passivo Não Circulante</th>\n",
       "      <th>Empréstimos e Financiamentos PNC</th>\n",
       "      <th>Outros PNC</th>\n",
       "      <th>Tributos Diferidos PNC</th>\n",
       "      <th>Provisões PNC</th>\n",
       "      <th>Participação dos Acionistas Não Controladores</th>\n",
       "      <th>Patrimônio Líquido</th>\n",
       "      <th>Capital Social Realizado</th>\n",
       "      <th>Reservas de Capital</th>\n",
       "      <th>Reservas de Lucros</th>\n",
       "      <th>Lucros/Prejuízos Acumulados</th>\n",
       "    </tr>\n",
       "  </thead>\n",
       "  <tbody>\n",
       "    <tr>\n",
       "      <td>41</td>\n",
       "      <td>17.78</td>\n",
       "      <td>15.26</td>\n",
       "      <td>16.4</td>\n",
       "      <td>17.44</td>\n",
       "      <td>6.14055e+07</td>\n",
       "      <td>17.034</td>\n",
       "      <td>9.77233e+06</td>\n",
       "      <td>5.69387e+06</td>\n",
       "      <td>140592</td>\n",
       "      <td>1.13347e+06</td>\n",
       "      <td>1.42675e+06</td>\n",
       "      <td>2.89137e+06</td>\n",
       "      <td>28896</td>\n",
       "      <td>70458</td>\n",
       "      <td>3.19443e+06</td>\n",
       "      <td>524435</td>\n",
       "      <td>816</td>\n",
       "      <td>207343</td>\n",
       "      <td>785950</td>\n",
       "      <td>76881</td>\n",
       "      <td>21200</td>\n",
       "      <td>9.77233e+06</td>\n",
       "      <td>1.81598e+06</td>\n",
       "      <td>46365</td>\n",
       "      <td>161076</td>\n",
       "      <td>59049</td>\n",
       "      <td>267899</td>\n",
       "      <td>1.01549e+06</td>\n",
       "      <td>2.27576e+06</td>\n",
       "      <td>1.72374e+06</td>\n",
       "      <td>189665</td>\n",
       "      <td>52997</td>\n",
       "      <td>499031</td>\n",
       "      <td>372817</td>\n",
       "      <td>5.30778e+06</td>\n",
       "      <td>3.39574e+06</td>\n",
       "      <td>-71719</td>\n",
       "      <td>1.82122e+06</td>\n",
       "      <td>162244</td>\n",
       "    </tr>\n",
       "  </tbody>\n",
       "</table>\n",
       "</div>"
      ],
      "text/plain": [
       "     High    Low  Open  Close       Volume Adj Close  Ativo Total Ativo Circulante Caixa e Equivalentes de Caixa AC Aplicações Financeiras AC Contas a Receber AC  Estoques AC Tributos a Recuperar AC Outros Ativos Circulantes AC Ativo Realizavel Longo Prazo Contas a Receber ACLP Tributos Diferidos ACLP Outros Ativos Não Circulantes ACLP Investimentos Imobilizado Intangível Passivo Total Passivo Circulante Obrigações Sociais e Trabalhistas PC Fornecedores PC Obrigações Fiscais PC Empréstimos e Financiamentos PC    Outros PC Passivo Não Circulante Empréstimos e Financiamentos PNC Outros PNC Tributos Diferidos PNC Provisões PNC Participação dos Acionistas Não Controladores Patrimônio Líquido Capital Social Realizado Reservas de Capital Reservas de Lucros Lucros/Prejuízos Acumulados\n",
       "41  17.78  15.26  16.4  17.44  6.14055e+07    17.034  9.77233e+06      5.69387e+06                           140592               1.13347e+06         1.42675e+06  2.89137e+06                   28896                        70458                  3.19443e+06                524435                     816                             207343        785950       76881      21200   9.77233e+06        1.81598e+06                                46365          161076                 59049                          267899  1.01549e+06            2.27576e+06                      1.72374e+06     189665                  52997        499031                                        372817        5.30778e+06              3.39574e+06              -71719        1.82122e+06                      162244"
      ]
     },
     "execution_count": 6,
     "metadata": {},
     "output_type": "execute_result"
    }
   ],
   "source": [
    "inference = inference.iloc[0:,3:]\n",
    "inference"
   ]
  },
  {
   "cell_type": "code",
   "execution_count": 7,
   "metadata": {},
   "outputs": [],
   "source": [
    "inference.to_csv(\"ROW_INFERENCE_CYRE3.csv\", index= False)"
   ]
  }
 ],
 "metadata": {
  "kernelspec": {
   "display_name": "Python 3",
   "language": "python",
   "name": "python3"
  },
  "language_info": {
   "codemirror_mode": {
    "name": "ipython",
    "version": 3
   },
   "file_extension": ".py",
   "mimetype": "text/x-python",
   "name": "python",
   "nbconvert_exporter": "python",
   "pygments_lexer": "ipython3",
   "version": "3.7.4"
  }
 },
 "nbformat": 4,
 "nbformat_minor": 2
}
