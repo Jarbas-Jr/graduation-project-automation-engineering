{
 "cells": [
  {
   "cell_type": "markdown",
   "metadata": {},
   "source": [
    "# APLICAÇÃO DE UMA REDE NEURAL LSTM --> PREDICT: SEM DADOS REAIS PARA COMPARAR, MAS BUSCANDO CONVERGIR COM OS RESULTADOS DOS MODELOS DE CLASSIFICAÇÃO SOBRE OS DADOS DE PREÇO E DADOS FUNDAMENTALISTAS."
   ]
  },
  {
   "cell_type": "code",
   "execution_count": 1,
   "metadata": {},
   "outputs": [
    {
     "name": "stderr",
     "output_type": "stream",
     "text": [
      "Using TensorFlow backend.\n",
      "/home/jarbasjr/.local/lib/python3.6/site-packages/tensorflow/python/framework/dtypes.py:516: FutureWarning: Passing (type, 1) or '1type' as a synonym of type is deprecated; in a future version of numpy, it will be understood as (type, (1,)) / '(1,)type'.\n",
      "  _np_qint8 = np.dtype([(\"qint8\", np.int8, 1)])\n",
      "/home/jarbasjr/.local/lib/python3.6/site-packages/tensorflow/python/framework/dtypes.py:517: FutureWarning: Passing (type, 1) or '1type' as a synonym of type is deprecated; in a future version of numpy, it will be understood as (type, (1,)) / '(1,)type'.\n",
      "  _np_quint8 = np.dtype([(\"quint8\", np.uint8, 1)])\n",
      "/home/jarbasjr/.local/lib/python3.6/site-packages/tensorflow/python/framework/dtypes.py:518: FutureWarning: Passing (type, 1) or '1type' as a synonym of type is deprecated; in a future version of numpy, it will be understood as (type, (1,)) / '(1,)type'.\n",
      "  _np_qint16 = np.dtype([(\"qint16\", np.int16, 1)])\n",
      "/home/jarbasjr/.local/lib/python3.6/site-packages/tensorflow/python/framework/dtypes.py:519: FutureWarning: Passing (type, 1) or '1type' as a synonym of type is deprecated; in a future version of numpy, it will be understood as (type, (1,)) / '(1,)type'.\n",
      "  _np_quint16 = np.dtype([(\"quint16\", np.uint16, 1)])\n",
      "/home/jarbasjr/.local/lib/python3.6/site-packages/tensorflow/python/framework/dtypes.py:520: FutureWarning: Passing (type, 1) or '1type' as a synonym of type is deprecated; in a future version of numpy, it will be understood as (type, (1,)) / '(1,)type'.\n",
      "  _np_qint32 = np.dtype([(\"qint32\", np.int32, 1)])\n",
      "/home/jarbasjr/.local/lib/python3.6/site-packages/tensorflow/python/framework/dtypes.py:525: FutureWarning: Passing (type, 1) or '1type' as a synonym of type is deprecated; in a future version of numpy, it will be understood as (type, (1,)) / '(1,)type'.\n",
      "  np_resource = np.dtype([(\"resource\", np.ubyte, 1)])\n",
      "/home/jarbasjr/.local/lib/python3.6/site-packages/tensorboard/compat/tensorflow_stub/dtypes.py:541: FutureWarning: Passing (type, 1) or '1type' as a synonym of type is deprecated; in a future version of numpy, it will be understood as (type, (1,)) / '(1,)type'.\n",
      "  _np_qint8 = np.dtype([(\"qint8\", np.int8, 1)])\n",
      "/home/jarbasjr/.local/lib/python3.6/site-packages/tensorboard/compat/tensorflow_stub/dtypes.py:542: FutureWarning: Passing (type, 1) or '1type' as a synonym of type is deprecated; in a future version of numpy, it will be understood as (type, (1,)) / '(1,)type'.\n",
      "  _np_quint8 = np.dtype([(\"quint8\", np.uint8, 1)])\n",
      "/home/jarbasjr/.local/lib/python3.6/site-packages/tensorboard/compat/tensorflow_stub/dtypes.py:543: FutureWarning: Passing (type, 1) or '1type' as a synonym of type is deprecated; in a future version of numpy, it will be understood as (type, (1,)) / '(1,)type'.\n",
      "  _np_qint16 = np.dtype([(\"qint16\", np.int16, 1)])\n",
      "/home/jarbasjr/.local/lib/python3.6/site-packages/tensorboard/compat/tensorflow_stub/dtypes.py:544: FutureWarning: Passing (type, 1) or '1type' as a synonym of type is deprecated; in a future version of numpy, it will be understood as (type, (1,)) / '(1,)type'.\n",
      "  _np_quint16 = np.dtype([(\"quint16\", np.uint16, 1)])\n",
      "/home/jarbasjr/.local/lib/python3.6/site-packages/tensorboard/compat/tensorflow_stub/dtypes.py:545: FutureWarning: Passing (type, 1) or '1type' as a synonym of type is deprecated; in a future version of numpy, it will be understood as (type, (1,)) / '(1,)type'.\n",
      "  _np_qint32 = np.dtype([(\"qint32\", np.int32, 1)])\n",
      "/home/jarbasjr/.local/lib/python3.6/site-packages/tensorboard/compat/tensorflow_stub/dtypes.py:550: FutureWarning: Passing (type, 1) or '1type' as a synonym of type is deprecated; in a future version of numpy, it will be understood as (type, (1,)) / '(1,)type'.\n",
      "  np_resource = np.dtype([(\"resource\", np.ubyte, 1)])\n"
     ]
    }
   ],
   "source": [
    "from keras.models import Sequential\n",
    "from keras.layers import Dense, Dropout, LSTM\n",
    "from sklearn.preprocessing import MinMaxScaler\n",
    "import numpy as np\n",
    "import pandas as pd\n",
    "import yfinance as yf\n",
    "from datetime import datetime\n",
    "import pandas_datareader.data as web\n",
    "from sklearn.preprocessing import MinMaxScaler\n",
    "import matplotlib.pyplot as plt"
   ]
  },
  {
   "cell_type": "markdown",
   "metadata": {},
   "source": [
    "# Extraindo valores da API Yahoo Finance\n",
    "\n",
    "Os dados foram extraídos em escala temporal de \"semana\", no caso 'wk'\n",
    "\n",
    "Tirando \"Date\" que era um índice e o colocando como uma coluna normal.\n",
    "\n",
    "Colocamos Date como a primeira posição entre as colunas."
   ]
  },
  {
   "cell_type": "code",
   "execution_count": 2,
   "metadata": {},
   "outputs": [],
   "source": [
    "start = datetime(2000, 3, 1)\n",
    "end = datetime(2019, 8, 14)\n",
    "base = web.get_data_yahoo('VALE3.SA', start, end, interval = 'wk')\n",
    "\n",
    "base[\"Date\"] = base.index\n",
    "base.reset_index(drop=True, inplace=True)\n",
    "\n",
    "\n",
    "date = base['Date']\n",
    "base.drop(labels=['Date'], axis=1,inplace = True)\n",
    "base.insert(0, 'Date', date)"
   ]
  },
  {
   "cell_type": "code",
   "execution_count": 3,
   "metadata": {},
   "outputs": [
    {
     "data": {
      "text/html": [
       "<div>\n",
       "<style scoped>\n",
       "    .dataframe tbody tr th:only-of-type {\n",
       "        vertical-align: middle;\n",
       "    }\n",
       "\n",
       "    .dataframe tbody tr th {\n",
       "        vertical-align: top;\n",
       "    }\n",
       "\n",
       "    .dataframe thead th {\n",
       "        text-align: right;\n",
       "    }\n",
       "</style>\n",
       "<table border=\"1\" class=\"dataframe\">\n",
       "  <thead>\n",
       "    <tr style=\"text-align: right;\">\n",
       "      <th></th>\n",
       "      <th>Date</th>\n",
       "      <th>High</th>\n",
       "      <th>Low</th>\n",
       "      <th>Open</th>\n",
       "      <th>Close</th>\n",
       "      <th>Volume</th>\n",
       "      <th>Adj Close</th>\n",
       "    </tr>\n",
       "  </thead>\n",
       "  <tbody>\n",
       "    <tr>\n",
       "      <td>0</td>\n",
       "      <td>2000-02-28</td>\n",
       "      <td>3.416670</td>\n",
       "      <td>3.290830</td>\n",
       "      <td>3.400000</td>\n",
       "      <td>3.290830</td>\n",
       "      <td>1440000.0</td>\n",
       "      <td>2.187071</td>\n",
       "    </tr>\n",
       "    <tr>\n",
       "      <td>1</td>\n",
       "      <td>2000-03-06</td>\n",
       "      <td>3.315000</td>\n",
       "      <td>3.166670</td>\n",
       "      <td>3.290830</td>\n",
       "      <td>3.166670</td>\n",
       "      <td>705600.0</td>\n",
       "      <td>2.104556</td>\n",
       "    </tr>\n",
       "    <tr>\n",
       "      <td>2</td>\n",
       "      <td>2000-03-13</td>\n",
       "      <td>3.166670</td>\n",
       "      <td>3.000000</td>\n",
       "      <td>3.166670</td>\n",
       "      <td>3.024170</td>\n",
       "      <td>20688000.0</td>\n",
       "      <td>2.009851</td>\n",
       "    </tr>\n",
       "    <tr>\n",
       "      <td>3</td>\n",
       "      <td>2000-03-20</td>\n",
       "      <td>3.208330</td>\n",
       "      <td>2.750000</td>\n",
       "      <td>3.025000</td>\n",
       "      <td>3.208330</td>\n",
       "      <td>5203200.0</td>\n",
       "      <td>2.132242</td>\n",
       "    </tr>\n",
       "    <tr>\n",
       "      <td>4</td>\n",
       "      <td>2000-03-27</td>\n",
       "      <td>3.333330</td>\n",
       "      <td>3.125000</td>\n",
       "      <td>3.250000</td>\n",
       "      <td>3.333330</td>\n",
       "      <td>4300800.0</td>\n",
       "      <td>2.215317</td>\n",
       "    </tr>\n",
       "    <tr>\n",
       "      <td>...</td>\n",
       "      <td>...</td>\n",
       "      <td>...</td>\n",
       "      <td>...</td>\n",
       "      <td>...</td>\n",
       "      <td>...</td>\n",
       "      <td>...</td>\n",
       "      <td>...</td>\n",
       "    </tr>\n",
       "    <tr>\n",
       "      <td>1011</td>\n",
       "      <td>2019-07-15</td>\n",
       "      <td>53.470001</td>\n",
       "      <td>52.230000</td>\n",
       "      <td>52.459999</td>\n",
       "      <td>52.720001</td>\n",
       "      <td>75154900.0</td>\n",
       "      <td>52.720001</td>\n",
       "    </tr>\n",
       "    <tr>\n",
       "      <td>1012</td>\n",
       "      <td>2019-07-22</td>\n",
       "      <td>52.660000</td>\n",
       "      <td>50.099998</td>\n",
       "      <td>52.180000</td>\n",
       "      <td>50.230000</td>\n",
       "      <td>72983100.0</td>\n",
       "      <td>50.230000</td>\n",
       "    </tr>\n",
       "    <tr>\n",
       "      <td>1013</td>\n",
       "      <td>2019-07-29</td>\n",
       "      <td>50.599998</td>\n",
       "      <td>47.410000</td>\n",
       "      <td>50.299999</td>\n",
       "      <td>47.840000</td>\n",
       "      <td>107425300.0</td>\n",
       "      <td>47.840000</td>\n",
       "    </tr>\n",
       "    <tr>\n",
       "      <td>1014</td>\n",
       "      <td>2019-08-05</td>\n",
       "      <td>47.490002</td>\n",
       "      <td>45.450001</td>\n",
       "      <td>46.599998</td>\n",
       "      <td>45.490002</td>\n",
       "      <td>128177000.0</td>\n",
       "      <td>45.490002</td>\n",
       "    </tr>\n",
       "    <tr>\n",
       "      <td>1015</td>\n",
       "      <td>2019-08-12</td>\n",
       "      <td>46.799999</td>\n",
       "      <td>43.169998</td>\n",
       "      <td>45.150002</td>\n",
       "      <td>43.889999</td>\n",
       "      <td>85918700.0</td>\n",
       "      <td>43.889999</td>\n",
       "    </tr>\n",
       "  </tbody>\n",
       "</table>\n",
       "<p>1016 rows × 7 columns</p>\n",
       "</div>"
      ],
      "text/plain": [
       "           Date       High        Low       Open      Close       Volume  \\\n",
       "0    2000-02-28   3.416670   3.290830   3.400000   3.290830    1440000.0   \n",
       "1    2000-03-06   3.315000   3.166670   3.290830   3.166670     705600.0   \n",
       "2    2000-03-13   3.166670   3.000000   3.166670   3.024170   20688000.0   \n",
       "3    2000-03-20   3.208330   2.750000   3.025000   3.208330    5203200.0   \n",
       "4    2000-03-27   3.333330   3.125000   3.250000   3.333330    4300800.0   \n",
       "...         ...        ...        ...        ...        ...          ...   \n",
       "1011 2019-07-15  53.470001  52.230000  52.459999  52.720001   75154900.0   \n",
       "1012 2019-07-22  52.660000  50.099998  52.180000  50.230000   72983100.0   \n",
       "1013 2019-07-29  50.599998  47.410000  50.299999  47.840000  107425300.0   \n",
       "1014 2019-08-05  47.490002  45.450001  46.599998  45.490002  128177000.0   \n",
       "1015 2019-08-12  46.799999  43.169998  45.150002  43.889999   85918700.0   \n",
       "\n",
       "      Adj Close  \n",
       "0      2.187071  \n",
       "1      2.104556  \n",
       "2      2.009851  \n",
       "3      2.132242  \n",
       "4      2.215317  \n",
       "...         ...  \n",
       "1011  52.720001  \n",
       "1012  50.230000  \n",
       "1013  47.840000  \n",
       "1014  45.490002  \n",
       "1015  43.889999  \n",
       "\n",
       "[1016 rows x 7 columns]"
      ]
     },
     "execution_count": 3,
     "metadata": {},
     "output_type": "execute_result"
    }
   ],
   "source": [
    "base"
   ]
  },
  {
   "cell_type": "code",
   "execution_count": 4,
   "metadata": {},
   "outputs": [],
   "source": [
    "base = base.dropna()"
   ]
  },
  {
   "cell_type": "code",
   "execution_count": 5,
   "metadata": {
    "scrolled": true
   },
   "outputs": [
    {
     "name": "stdout",
     "output_type": "stream",
     "text": [
      "<class 'pandas.core.frame.DataFrame'>\n",
      "Int64Index: 1016 entries, 0 to 1015\n",
      "Data columns (total 7 columns):\n",
      "Date         1016 non-null datetime64[ns]\n",
      "High         1016 non-null float64\n",
      "Low          1016 non-null float64\n",
      "Open         1016 non-null float64\n",
      "Close        1016 non-null float64\n",
      "Volume       1016 non-null float64\n",
      "Adj Close    1016 non-null float64\n",
      "dtypes: datetime64[ns](1), float64(6)\n",
      "memory usage: 63.5 KB\n"
     ]
    }
   ],
   "source": [
    "base.info()"
   ]
  },
  {
   "cell_type": "code",
   "execution_count": 6,
   "metadata": {},
   "outputs": [],
   "source": [
    "base_train = base.iloc[:, 1:7].values"
   ]
  },
  {
   "cell_type": "markdown",
   "metadata": {},
   "source": [
    "# Normalização\n",
    "\n",
    "Vamos precisar fazer ruma normalização nesses dados, pos quando se trabalha com esse tipo de rede neural, como existem muitas camadas e principalmente o fato de cada camada apontar pra ela mesma para passar informação ele pode ficar bastante lento se for utilizado os valores reais, então vamos aplicar uma normalização para que consigamos colocar esses valores em uma escala de 0 até 1."
   ]
  },
  {
   "cell_type": "code",
   "execution_count": 7,
   "metadata": {},
   "outputs": [],
   "source": [
    "normalizer = MinMaxScaler(feature_range=(0,1))\n",
    "base_train_normalizer = normalizer.fit_transform(base_train)"
   ]
  },
  {
   "cell_type": "markdown",
   "metadata": {},
   "source": [
    "## No código, queremos prever o preço da ação baseado nos 90 valores anteriores, então irá começar a partir do valor de indice 90\n",
    "\n",
    "## Preencher dois vetores, o de previsores e o de preço real\n",
    "\n",
    "## previsores: a cada iteração retira do \"base_treinamento_normaliza\" e vai retirando os preços de 90 em 90, por exemplo, primeiro tira os valores de '0 a 119', depois '1 a 120', '2 a 121'e etc... Sempre assim de 120 em 120, colocando cada grupo desses 120 em cada coluna da variavel previsores\n",
    "\n",
    "## preço_real: a cada iteração coloca um valor a partir do indice 120 de \"base_treinamento_normalizada'."
   ]
  },
  {
   "cell_type": "code",
   "execution_count": 8,
   "metadata": {},
   "outputs": [],
   "source": [
    "previsores = []\n",
    "preco_real = []\n",
    "\n",
    "for i in range(120, 1016):\n",
    "    previsores.append(base_train_normalizer[i-120:i, 0:6])\n",
    "    preco_real.append(base_train_normalizer[i, 0])\n",
    "    \n",
    "previsores, preco_real = np.array(previsores), np.array(preco_real)"
   ]
  },
  {
   "cell_type": "markdown",
   "metadata": {},
   "source": [
    "## Na LSTM tem um formato de input shape, configurada na imagem\n",
    "\n",
    "## 'batch_size': Se referindo a quantidade de registros.\n",
    "\n",
    "## 'timesteps': Quantos intervalos de tempo, que seriam as colunas, que poderiam ser, por exemplo, t1, t2, t3, cada coluna representa uma unidade do preço da ação no tempo.\n",
    "\n",
    "## 'input_dim': Temos 6 indicadores, e com base nesses dados dessa coluna no passado quero prever no futuro. Caso queria utilizar mais atributos previsores pode-se aumentar a dimensionalidade no terceiro item."
   ]
  },
  {
   "cell_type": "code",
   "execution_count": 9,
   "metadata": {},
   "outputs": [
    {
     "data": {
      "text/plain": [
       "(896, 120, 6)"
      ]
     },
     "execution_count": 9,
     "metadata": {},
     "output_type": "execute_result"
    }
   ],
   "source": [
    "previsores.shape"
   ]
  },
  {
   "cell_type": "code",
   "execution_count": 10,
   "metadata": {},
   "outputs": [
    {
     "data": {
      "text/plain": [
       "(896,)"
      ]
     },
     "execution_count": 10,
     "metadata": {},
     "output_type": "execute_result"
    }
   ],
   "source": [
    "preco_real.shape"
   ]
  },
  {
   "cell_type": "code",
   "execution_count": 11,
   "metadata": {},
   "outputs": [],
   "source": [
    "input_shape = (previsores.shape[1],6)"
   ]
  },
  {
   "cell_type": "markdown",
   "metadata": {},
   "source": [
    "## Estrutura da Rede Neural\n",
    "\n",
    "Units equivale a o número de células de memoria, deve ser um número grande pra adicionar mais dimensionalidade e caputar a tendência no decorrer do tempo, se for um valor muito baixo não irá conseguir capturar variação temporal \n",
    "\n",
    "Return_sequences = utiliza somente quando terá mais de uma camada LSTM, indica irá passar a informação para as próximas camadas subsequentes abaixo a primeira camada\n",
    "\n",
    "Com esse tipo de rede neural é interessente adicionar mais camdas para ter bons resultados, nesse caso serão 4.\n",
    "\n",
    "Aqui pode-se reduzir o número de neuronios/células de memória, em alguns casos pode-se colocar valor mais alto nos primeiro e depois dimuir, fazer testes para verificar resultados.\n",
    "\n",
    "Retira o 'return_sequences', só colocar quando tem mais camadas subsequentes No caso, após, é somente a camada de saída.\n",
    "\n",
    "Camada de saída, como é apenas a coluna 'close' que estamos predizendo, somente uma unit. Função linear já que é um caso de regressão."
   ]
  },
  {
   "cell_type": "code",
   "execution_count": 12,
   "metadata": {},
   "outputs": [],
   "source": [
    "regressor = Sequential()\n",
    "\n",
    "regressor.add(LSTM(units = 100, return_sequences = True, input_shape = input_shape))\n",
    "regressor.add(Dropout(0.3))\n",
    "\n",
    "regressor.add(LSTM(units = 50, return_sequences = True))\n",
    "regressor.add(Dropout(0.3))\n",
    "\n",
    "regressor.add(LSTM(units = 50, return_sequences = True))\n",
    "regressor.add(Dropout(0.3))\n",
    "\n",
    "regressor.add(LSTM(units = 50))\n",
    "regressor.add(Dropout(0.3))\n",
    "\n",
    "regressor.add(Dense(units = 1, activation = 'linear'))"
   ]
  },
  {
   "cell_type": "markdown",
   "metadata": {},
   "source": [
    "RMSprop é um otimizador para RNN.\n",
    "\n",
    "\"mean_squared_error\" calculo de erro mais eficiente de calculo do erro.\n",
    "\n",
    "\"mean_absolute_error\" como ele faz absoluto fica mais facil entender os resultados."
   ]
  },
  {
   "cell_type": "code",
   "execution_count": 13,
   "metadata": {},
   "outputs": [],
   "source": [
    "regressor.compile(optimizer = 'rmsprop', loss = 'mean_squared_error',\n",
    "                         metrics = ['mean_absolute_error'])"
   ]
  },
  {
   "cell_type": "markdown",
   "metadata": {},
   "source": [
    "# Procesos de treinamento - Interessante rodar PELO MENOS umas 100 epócas se não ele tende a não se adaptar aos dados."
   ]
  },
  {
   "cell_type": "code",
   "execution_count": 14,
   "metadata": {},
   "outputs": [
    {
     "name": "stderr",
     "output_type": "stream",
     "text": [
      "WARNING: Logging before flag parsing goes to stderr.\n",
      "W1116 04:59:45.700766 140441958512448 deprecation_wrapper.py:119] From /home/jarbasjr/.local/lib/python3.6/site-packages/keras/backend/tensorflow_backend.py:422: The name tf.global_variables is deprecated. Please use tf.compat.v1.global_variables instead.\n",
      "\n"
     ]
    },
    {
     "name": "stdout",
     "output_type": "stream",
     "text": [
      "Epoch 1/100\n",
      "896/896 [==============================] - 29s 32ms/step - loss: 0.0368 - mean_absolute_error: 0.1325\n",
      "Epoch 2/100\n",
      "896/896 [==============================] - 27s 30ms/step - loss: 0.0171 - mean_absolute_error: 0.0970\n",
      "Epoch 3/100\n",
      "896/896 [==============================] - 24s 27ms/step - loss: 0.0144 - mean_absolute_error: 0.0912\n",
      "Epoch 4/100\n",
      "896/896 [==============================] - 26s 30ms/step - loss: 0.0133 - mean_absolute_error: 0.0865\n",
      "Epoch 5/100\n",
      "896/896 [==============================] - 23s 26ms/step - loss: 0.0115 - mean_absolute_error: 0.0773\n",
      "Epoch 6/100\n",
      "896/896 [==============================] - 27s 31ms/step - loss: 0.0126 - mean_absolute_error: 0.0822\n",
      "Epoch 7/100\n",
      "896/896 [==============================] - 29s 32ms/step - loss: 0.0098 - mean_absolute_error: 0.0719\n",
      "Epoch 8/100\n",
      "896/896 [==============================] - 30s 33ms/step - loss: 0.0095 - mean_absolute_error: 0.0703\n",
      "Epoch 9/100\n",
      "896/896 [==============================] - 29s 33ms/step - loss: 0.0093 - mean_absolute_error: 0.0718\n",
      "Epoch 10/100\n",
      "896/896 [==============================] - 28s 31ms/step - loss: 0.0088 - mean_absolute_error: 0.0704\n",
      "Epoch 11/100\n",
      "896/896 [==============================] - 29s 32ms/step - loss: 0.0078 - mean_absolute_error: 0.0640\n",
      "Epoch 12/100\n",
      "896/896 [==============================] - 29s 32ms/step - loss: 0.0086 - mean_absolute_error: 0.0666\n",
      "Epoch 13/100\n",
      "896/896 [==============================] - 29s 32ms/step - loss: 0.0069 - mean_absolute_error: 0.0622\n",
      "Epoch 14/100\n",
      "896/896 [==============================] - 29s 32ms/step - loss: 0.0077 - mean_absolute_error: 0.0641\n",
      "Epoch 15/100\n",
      "896/896 [==============================] - 29s 32ms/step - loss: 0.0066 - mean_absolute_error: 0.0595\n",
      "Epoch 16/100\n",
      "896/896 [==============================] - 27s 30ms/step - loss: 0.0067 - mean_absolute_error: 0.0597\n",
      "Epoch 17/100\n",
      "896/896 [==============================] - 27s 30ms/step - loss: 0.0064 - mean_absolute_error: 0.0584\n",
      "Epoch 18/100\n",
      "896/896 [==============================] - 27s 30ms/step - loss: 0.0062 - mean_absolute_error: 0.0579\n",
      "Epoch 19/100\n",
      "896/896 [==============================] - 27s 30ms/step - loss: 0.0059 - mean_absolute_error: 0.0561\n",
      "Epoch 20/100\n",
      "896/896 [==============================] - 29s 32ms/step - loss: 0.0055 - mean_absolute_error: 0.0544\n",
      "Epoch 21/100\n",
      "896/896 [==============================] - 28s 31ms/step - loss: 0.0060 - mean_absolute_error: 0.0556\n",
      "Epoch 22/100\n",
      "896/896 [==============================] - 27s 30ms/step - loss: 0.0054 - mean_absolute_error: 0.0540\n",
      "Epoch 23/100\n",
      "896/896 [==============================] - 28s 31ms/step - loss: 0.0056 - mean_absolute_error: 0.0550\n",
      "Epoch 24/100\n",
      "896/896 [==============================] - 27s 31ms/step - loss: 0.0053 - mean_absolute_error: 0.0529\n",
      "Epoch 25/100\n",
      "896/896 [==============================] - 24s 27ms/step - loss: 0.0051 - mean_absolute_error: 0.0514\n",
      "Epoch 26/100\n",
      "896/896 [==============================] - 25s 28ms/step - loss: 0.0048 - mean_absolute_error: 0.0513\n",
      "Epoch 27/100\n",
      "896/896 [==============================] - 28s 31ms/step - loss: 0.0047 - mean_absolute_error: 0.0507\n",
      "Epoch 28/100\n",
      "896/896 [==============================] - 26s 29ms/step - loss: 0.0046 - mean_absolute_error: 0.0495\n",
      "Epoch 29/100\n",
      "896/896 [==============================] - 28s 31ms/step - loss: 0.0052 - mean_absolute_error: 0.0524\n",
      "Epoch 30/100\n",
      "896/896 [==============================] - 28s 31ms/step - loss: 0.0042 - mean_absolute_error: 0.0480\n",
      "Epoch 31/100\n",
      "896/896 [==============================] - 27s 30ms/step - loss: 0.0044 - mean_absolute_error: 0.0495\n",
      "Epoch 32/100\n",
      "896/896 [==============================] - 25s 28ms/step - loss: 0.0039 - mean_absolute_error: 0.0462\n",
      "Epoch 33/100\n",
      "896/896 [==============================] - 25s 28ms/step - loss: 0.0041 - mean_absolute_error: 0.0468\n",
      "Epoch 34/100\n",
      "896/896 [==============================] - 25s 28ms/step - loss: 0.0037 - mean_absolute_error: 0.0451\n",
      "Epoch 35/100\n",
      "896/896 [==============================] - 24s 27ms/step - loss: 0.0041 - mean_absolute_error: 0.0468\n",
      "Epoch 36/100\n",
      "896/896 [==============================] - 24s 27ms/step - loss: 0.0038 - mean_absolute_error: 0.0466\n",
      "Epoch 37/100\n",
      "896/896 [==============================] - 23s 26ms/step - loss: 0.0040 - mean_absolute_error: 0.0467\n",
      "Epoch 38/100\n",
      "896/896 [==============================] - 24s 27ms/step - loss: 0.0035 - mean_absolute_error: 0.0435\n",
      "Epoch 39/100\n",
      "896/896 [==============================] - 24s 27ms/step - loss: 0.0041 - mean_absolute_error: 0.0476\n",
      "Epoch 40/100\n",
      "896/896 [==============================] - 24s 26ms/step - loss: 0.0036 - mean_absolute_error: 0.0443\n",
      "Epoch 41/100\n",
      "896/896 [==============================] - 23s 26ms/step - loss: 0.0037 - mean_absolute_error: 0.0453\n",
      "Epoch 42/100\n",
      "896/896 [==============================] - 23s 26ms/step - loss: 0.0031 - mean_absolute_error: 0.0412\n",
      "Epoch 43/100\n",
      "896/896 [==============================] - 24s 26ms/step - loss: 0.0035 - mean_absolute_error: 0.0441\n",
      "Epoch 44/100\n",
      "896/896 [==============================] - 24s 27ms/step - loss: 0.0030 - mean_absolute_error: 0.0402\n",
      "Epoch 45/100\n",
      "896/896 [==============================] - 24s 27ms/step - loss: 0.0032 - mean_absolute_error: 0.0418\n",
      "Epoch 46/100\n",
      "896/896 [==============================] - 24s 27ms/step - loss: 0.0033 - mean_absolute_error: 0.0423\n",
      "Epoch 47/100\n",
      "896/896 [==============================] - 24s 27ms/step - loss: 0.0030 - mean_absolute_error: 0.0410\n",
      "Epoch 48/100\n",
      "896/896 [==============================] - 24s 27ms/step - loss: 0.0032 - mean_absolute_error: 0.0427\n",
      "Epoch 49/100\n",
      "896/896 [==============================] - 24s 27ms/step - loss: 0.0026 - mean_absolute_error: 0.0375\n",
      "Epoch 50/100\n",
      "896/896 [==============================] - 24s 27ms/step - loss: 0.0031 - mean_absolute_error: 0.0409\n",
      "Epoch 51/100\n",
      "896/896 [==============================] - 23s 26ms/step - loss: 0.0032 - mean_absolute_error: 0.0421\n",
      "Epoch 52/100\n",
      "896/896 [==============================] - 23s 26ms/step - loss: 0.0030 - mean_absolute_error: 0.0413\n",
      "Epoch 53/100\n",
      "896/896 [==============================] - 24s 27ms/step - loss: 0.0028 - mean_absolute_error: 0.0396\n",
      "Epoch 54/100\n",
      "896/896 [==============================] - 24s 26ms/step - loss: 0.0030 - mean_absolute_error: 0.0408\n",
      "Epoch 55/100\n",
      "896/896 [==============================] - 24s 26ms/step - loss: 0.0028 - mean_absolute_error: 0.0387\n",
      "Epoch 56/100\n",
      "896/896 [==============================] - 23s 26ms/step - loss: 0.0027 - mean_absolute_error: 0.0393\n",
      "Epoch 57/100\n",
      "896/896 [==============================] - 25s 28ms/step - loss: 0.0029 - mean_absolute_error: 0.0392\n",
      "Epoch 58/100\n",
      "896/896 [==============================] - 24s 26ms/step - loss: 0.0023 - mean_absolute_error: 0.0367\n",
      "Epoch 59/100\n",
      "896/896 [==============================] - 23s 26ms/step - loss: 0.0028 - mean_absolute_error: 0.0401\n",
      "Epoch 60/100\n",
      "896/896 [==============================] - 24s 26ms/step - loss: 0.0021 - mean_absolute_error: 0.0351\n",
      "Epoch 61/100\n",
      "896/896 [==============================] - 23s 26ms/step - loss: 0.0027 - mean_absolute_error: 0.0389\n",
      "Epoch 62/100\n",
      "896/896 [==============================] - 23s 26ms/step - loss: 0.0024 - mean_absolute_error: 0.0367\n",
      "Epoch 63/100\n",
      "896/896 [==============================] - 24s 26ms/step - loss: 0.0025 - mean_absolute_error: 0.0376\n",
      "Epoch 64/100\n",
      "896/896 [==============================] - 24s 26ms/step - loss: 0.0028 - mean_absolute_error: 0.0388\n",
      "Epoch 65/100\n",
      "896/896 [==============================] - 23s 26ms/step - loss: 0.0023 - mean_absolute_error: 0.0354\n",
      "Epoch 66/100\n",
      "896/896 [==============================] - 22s 25ms/step - loss: 0.0025 - mean_absolute_error: 0.0367\n",
      "Epoch 67/100\n",
      "896/896 [==============================] - 24s 26ms/step - loss: 0.0026 - mean_absolute_error: 0.0384\n",
      "Epoch 68/100\n",
      "896/896 [==============================] - 24s 26ms/step - loss: 0.0024 - mean_absolute_error: 0.0359\n",
      "Epoch 69/100\n",
      "896/896 [==============================] - 23s 26ms/step - loss: 0.0024 - mean_absolute_error: 0.0365\n",
      "Epoch 70/100\n",
      "896/896 [==============================] - 25s 28ms/step - loss: 0.0023 - mean_absolute_error: 0.0357\n",
      "Epoch 71/100\n",
      "896/896 [==============================] - 23s 26ms/step - loss: 0.0024 - mean_absolute_error: 0.0369\n",
      "Epoch 72/100\n",
      "896/896 [==============================] - 23s 25ms/step - loss: 0.0022 - mean_absolute_error: 0.0343\n",
      "Epoch 73/100\n",
      "896/896 [==============================] - 23s 25ms/step - loss: 0.0024 - mean_absolute_error: 0.0363\n",
      "Epoch 74/100\n",
      "896/896 [==============================] - 24s 27ms/step - loss: 0.0021 - mean_absolute_error: 0.0339\n",
      "Epoch 75/100\n",
      "896/896 [==============================] - 25s 28ms/step - loss: 0.0022 - mean_absolute_error: 0.0344\n",
      "Epoch 76/100\n",
      "896/896 [==============================] - 24s 27ms/step - loss: 0.0022 - mean_absolute_error: 0.0354\n",
      "Epoch 77/100\n",
      "896/896 [==============================] - 24s 27ms/step - loss: 0.0021 - mean_absolute_error: 0.0345\n",
      "Epoch 78/100\n",
      "896/896 [==============================] - 24s 26ms/step - loss: 0.0022 - mean_absolute_error: 0.0344\n",
      "Epoch 79/100\n",
      "896/896 [==============================] - 24s 27ms/step - loss: 0.0024 - mean_absolute_error: 0.0367\n",
      "Epoch 80/100\n",
      "896/896 [==============================] - 23s 26ms/step - loss: 0.0019 - mean_absolute_error: 0.0324\n",
      "Epoch 81/100\n",
      "896/896 [==============================] - 24s 27ms/step - loss: 0.0020 - mean_absolute_error: 0.0341\n",
      "Epoch 82/100\n",
      "896/896 [==============================] - 24s 27ms/step - loss: 0.0022 - mean_absolute_error: 0.0347\n",
      "Epoch 83/100\n",
      "896/896 [==============================] - 24s 27ms/step - loss: 0.0021 - mean_absolute_error: 0.0342\n",
      "Epoch 84/100\n",
      "896/896 [==============================] - 26s 29ms/step - loss: 0.0019 - mean_absolute_error: 0.0328\n",
      "Epoch 85/100\n",
      "896/896 [==============================] - 24s 26ms/step - loss: 0.0019 - mean_absolute_error: 0.0326\n",
      "Epoch 86/100\n",
      "896/896 [==============================] - 23s 26ms/step - loss: 0.0021 - mean_absolute_error: 0.0338\n",
      "Epoch 87/100\n",
      "896/896 [==============================] - 23s 26ms/step - loss: 0.0021 - mean_absolute_error: 0.0352\n",
      "Epoch 88/100\n",
      "896/896 [==============================] - 24s 27ms/step - loss: 0.0021 - mean_absolute_error: 0.0337\n",
      "Epoch 89/100\n",
      "896/896 [==============================] - 24s 27ms/step - loss: 0.0018 - mean_absolute_error: 0.0326\n",
      "Epoch 90/100\n",
      "896/896 [==============================] - 24s 27ms/step - loss: 0.0022 - mean_absolute_error: 0.0347\n",
      "Epoch 91/100\n",
      "896/896 [==============================] - 24s 26ms/step - loss: 0.0022 - mean_absolute_error: 0.0342\n",
      "Epoch 92/100\n",
      "896/896 [==============================] - 24s 27ms/step - loss: 0.0018 - mean_absolute_error: 0.0323\n",
      "Epoch 93/100\n",
      "896/896 [==============================] - 23s 26ms/step - loss: 0.0022 - mean_absolute_error: 0.0351\n",
      "Epoch 94/100\n",
      "896/896 [==============================] - 24s 27ms/step - loss: 0.0017 - mean_absolute_error: 0.0311\n",
      "Epoch 95/100\n",
      "896/896 [==============================] - 24s 26ms/step - loss: 0.0017 - mean_absolute_error: 0.0312\n",
      "Epoch 96/100\n",
      "896/896 [==============================] - 24s 26ms/step - loss: 0.0021 - mean_absolute_error: 0.0337\n",
      "Epoch 97/100\n",
      "896/896 [==============================] - 23s 26ms/step - loss: 0.0020 - mean_absolute_error: 0.0332\n",
      "Epoch 98/100\n",
      "896/896 [==============================] - 25s 28ms/step - loss: 0.0018 - mean_absolute_error: 0.0313\n",
      "Epoch 99/100\n",
      "896/896 [==============================] - 21s 23ms/step - loss: 0.0018 - mean_absolute_error: 0.0310\n",
      "Epoch 100/100\n",
      "896/896 [==============================] - 17s 19ms/step - loss: 0.0019 - mean_absolute_error: 0.0331\n",
      "CPU times: user 27min 1s, sys: 46.4 s, total: 27min 47s\n",
      "Wall time: 41min 31s\n"
     ]
    },
    {
     "data": {
      "text/plain": [
       "<keras.callbacks.callbacks.History at 0x7fbad6bc2e48>"
      ]
     },
     "execution_count": 14,
     "metadata": {},
     "output_type": "execute_result"
    }
   ],
   "source": [
    "%%time\n",
    "regressor.fit(previsores, preco_real, epochs =100, batch_size = 32 )"
   ]
  },
  {
   "cell_type": "markdown",
   "metadata": {},
   "source": [
    "# PROCESSO DE TESTE\n",
    "\n",
    "Tendo como métrica, antes de plotar o gráfico que irá predizer para o futuro."
   ]
  },
  {
   "cell_type": "code",
   "execution_count": 15,
   "metadata": {},
   "outputs": [
    {
     "name": "stdout",
     "output_type": "stream",
     "text": [
      "<class 'pandas.core.frame.DataFrame'>\n",
      "Int64Index: 1016 entries, 0 to 1015\n",
      "Data columns (total 6 columns):\n",
      "High         1016 non-null float64\n",
      "Low          1016 non-null float64\n",
      "Open         1016 non-null float64\n",
      "Close        1016 non-null float64\n",
      "Volume       1016 non-null float64\n",
      "Adj Close    1016 non-null float64\n",
      "dtypes: float64(6)\n",
      "memory usage: 55.6 KB\n"
     ]
    }
   ],
   "source": [
    "start = datetime(2000, 3, 1)\n",
    "end = datetime(2019, 8, 14)\n",
    "base_complete = web.get_data_yahoo('VALE3.SA', start, end, interval = 'wk')\n",
    "\n",
    "base_complete[\"Date\"] = base_complete.index\n",
    "base_complete.reset_index(drop=True, inplace=True)\n",
    "\n",
    "\n",
    "date = base_complete['Date']\n",
    "base_complete.drop(labels=['Date'], axis=1,inplace = True)\n",
    "base_complete.insert(0, 'Date', date)\n",
    "base_complete = base_complete.dropna()\n",
    "\n",
    "base_complete = base_complete.iloc[:, 1:7]\n",
    "base_complete.info()"
   ]
  },
  {
   "cell_type": "markdown",
   "metadata": {},
   "source": [
    "Aqui é o momento onde definimos de qual índice será feito a janela deslizante.\n",
    "\n",
    "Vamos observar.\n",
    "\n",
    "Temos a base completa, com o base de dados de treinamento concateanda a base de testes. Assim o nosso índice de de interesse será o resultante da base complea menos a base de teste - menos o tamanho da nossa janela deslizante.\n",
    "\n",
    "Assim teremos o momento exato que a LSTM deverá atuar para predizer a primeira amostra da base de teste, eassim completar os 120 previsores da base de dados de teste.\n",
    "\n",
    "E ainda colocando os dados na mesma escala. Aqui não chamamos o método '.fit_transform', pq ele vai normalizar as entradas de acordo com o que ja foi normalizado lá na 'base_train_normalizer'."
   ]
  },
  {
   "cell_type": "code",
   "execution_count": 16,
   "metadata": {},
   "outputs": [
    {
     "data": {
      "text/plain": [
       "(172, 6)"
      ]
     },
     "execution_count": 16,
     "metadata": {},
     "output_type": "execute_result"
    }
   ],
   "source": [
    "entradas = base_complete[len(base_complete) - 52 - 120:].values\n",
    "entradas = normalizer.transform(entradas)\n",
    "entradas.shape"
   ]
  },
  {
   "cell_type": "markdown",
   "metadata": {},
   "source": [
    "Na variavel 'entradas' pegamos 172 valores, e no 'for' a cada iteração pega um range de 120 valores e coloca em cada coluna primeiro de '0 á 119', '1 á 120' e assim por diante. Até valores de '2 á 121'.\n",
    "\n",
    "Pegando 52 ranges de 120 valores há 52 linhas de 120 valores de ações, onde cada valor é o 'close' de um dia em sequência."
   ]
  },
  {
   "cell_type": "code",
   "execution_count": 17,
   "metadata": {},
   "outputs": [],
   "source": [
    "X_test = []\n",
    "\n",
    "for i in range(120,172):\n",
    "    X_test.append(entradas[i-120:i, 0:6])\n",
    "    \n",
    "\n",
    "X_test = np.array(X_test)"
   ]
  },
  {
   "cell_type": "code",
   "execution_count": 18,
   "metadata": {
    "scrolled": true
   },
   "outputs": [
    {
     "data": {
      "text/plain": [
       "(52, 120, 6)"
      ]
     },
     "execution_count": 18,
     "metadata": {},
     "output_type": "execute_result"
    }
   ],
   "source": [
    "X_test.shape"
   ]
  },
  {
   "cell_type": "code",
   "execution_count": 19,
   "metadata": {},
   "outputs": [],
   "source": [
    "previsoes = regressor.predict(X_test)"
   ]
  },
  {
   "cell_type": "code",
   "execution_count": 20,
   "metadata": {},
   "outputs": [
    {
     "data": {
      "text/plain": [
       "(52, 1)"
      ]
     },
     "execution_count": 20,
     "metadata": {},
     "output_type": "execute_result"
    }
   ],
   "source": [
    "previsoes.shape"
   ]
  },
  {
   "cell_type": "markdown",
   "metadata": {},
   "source": [
    "Aqui, devemos normalizar a base de treinamento correspondente a variavel que estamos predizendo, no caso a coluna \"close\". "
   ]
  },
  {
   "cell_type": "code",
   "execution_count": 21,
   "metadata": {},
   "outputs": [
    {
     "data": {
      "text/plain": [
       "array([[0.00386095],\n",
       "       [0.00206325],\n",
       "       [0.        ],\n",
       "       ...,\n",
       "       [0.64888575],\n",
       "       [0.61486026],\n",
       "       [0.59169392]])"
      ]
     },
     "execution_count": 21,
     "metadata": {},
     "output_type": "execute_result"
    }
   ],
   "source": [
    "normalizer_previsao = MinMaxScaler(feature_range=(0,1)) \n",
    "normalizer_previsao.fit_transform(base_complete.iloc[:,3:4].values)"
   ]
  },
  {
   "cell_type": "markdown",
   "metadata": {},
   "source": [
    "'Desnormalizando' para visualizar os resultados das previsoes dos preços efetivamente, e compara-los com valores reais."
   ]
  },
  {
   "cell_type": "code",
   "execution_count": 22,
   "metadata": {},
   "outputs": [],
   "source": [
    "previsoes = normalizer_previsao.inverse_transform(previsoes)"
   ]
  },
  {
   "cell_type": "markdown",
   "metadata": {},
   "source": [
    "# Gráfico da Predição\n",
    "\n",
    "Indica que a ação não subiria 10% no próximo 1 ano, ou 52 semanas que é a escala temporal usada."
   ]
  },
  {
   "cell_type": "code",
   "execution_count": 23,
   "metadata": {},
   "outputs": [
    {
     "data": {
      "image/png": "[encoded data removed]",
      "text/plain": [
       "<Figure size 432x288 with 1 Axes>"
      ]
     },
     "metadata": {
      "needs_background": "light"
     },
     "output_type": "display_data"
    }
   ],
   "source": [
    "plt.plot(previsoes, color = 'blue', label = 'Previsões 52 semanas á partir de 12/08/2019')\n",
    "plt.title('Previsão preço das ações')\n",
    "plt.xlabel('Tempo(Semana)')\n",
    "plt.ylabel('Valor Preço de Fechamento Semanal')\n",
    "plt.legend()\n",
    "plt.show()"
   ]
  }
 ],
 "metadata": {
  "kernelspec": {
   "display_name": "Python 3",
   "language": "python",
   "name": "python3"
  },
  "language_info": {
   "codemirror_mode": {
    "name": "ipython",
    "version": 3
   },
   "file_extension": ".py",
   "mimetype": "text/x-python",
   "name": "python",
   "nbconvert_exporter": "python",
   "pygments_lexer": "ipython3",
   "version": "3.7.4"
  }
 },
 "nbformat": 4,
 "nbformat_minor": 2
}
