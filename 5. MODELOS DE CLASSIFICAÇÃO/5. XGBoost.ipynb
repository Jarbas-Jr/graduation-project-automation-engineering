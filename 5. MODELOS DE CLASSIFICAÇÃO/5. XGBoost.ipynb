{
 "cells": [
  {
   "cell_type": "markdown",
   "metadata": {},
   "source": [
    "# APLICAÇÃO DO ALGORTIMO DE XGBOOST"
   ]
  },
  {
   "cell_type": "code",
   "execution_count": 1,
   "metadata": {},
   "outputs": [],
   "source": [
    "import pandas as pd\n",
    "import numpy as np\n",
    "from sklearn.model_selection import train_test_split\n",
    "from xgboost import XGBClassifier\n",
    "from sklearn.metrics import classification_report\n",
    "from sklearn.preprocessing import MinMaxScaler\n",
    "from sklearn.model_selection import GridSearchCV"
   ]
  },
  {
   "cell_type": "markdown",
   "metadata": {},
   "source": [
    "Leitura do dataset final."
   ]
  },
  {
   "cell_type": "code",
   "execution_count": 2,
   "metadata": {},
   "outputs": [
    {
     "data": {
      "text/html": [
       "<div>\n",
       "<style scoped>\n",
       "    .dataframe tbody tr th:only-of-type {\n",
       "        vertical-align: middle;\n",
       "    }\n",
       "\n",
       "    .dataframe tbody tr th {\n",
       "        vertical-align: top;\n",
       "    }\n",
       "\n",
       "    .dataframe thead th {\n",
       "        text-align: right;\n",
       "    }\n",
       "</style>\n",
       "<table border=\"1\" class=\"dataframe\">\n",
       "  <thead>\n",
       "    <tr style=\"text-align: right;\">\n",
       "      <th></th>\n",
       "      <th>target</th>\n",
       "      <th>High</th>\n",
       "      <th>Low</th>\n",
       "      <th>Open</th>\n",
       "      <th>Close</th>\n",
       "      <th>Volume</th>\n",
       "      <th>Adj Close</th>\n",
       "      <th>Ativo Total</th>\n",
       "      <th>Ativo Circulante</th>\n",
       "      <th>Caixa e Equivalentes de Caixa AC</th>\n",
       "      <th>...</th>\n",
       "      <th>Empréstimos e Financiamentos PNC</th>\n",
       "      <th>Outros PNC</th>\n",
       "      <th>Tributos Diferidos PNC</th>\n",
       "      <th>Provisões PNC</th>\n",
       "      <th>Participação dos Acionistas Não Controladores</th>\n",
       "      <th>Patrimônio Líquido</th>\n",
       "      <th>Capital Social Realizado</th>\n",
       "      <th>Reservas de Capital</th>\n",
       "      <th>Reservas de Lucros</th>\n",
       "      <th>Lucros/Prejuízos Acumulados</th>\n",
       "    </tr>\n",
       "  </thead>\n",
       "  <tbody>\n",
       "    <tr>\n",
       "      <td>0</td>\n",
       "      <td>Bad</td>\n",
       "      <td>42.900002</td>\n",
       "      <td>19.440001</td>\n",
       "      <td>19.985001</td>\n",
       "      <td>22.750000</td>\n",
       "      <td>3.449634e+07</td>\n",
       "      <td>12.533106</td>\n",
       "      <td>2885705.0</td>\n",
       "      <td>1715015.0</td>\n",
       "      <td>374622.0</td>\n",
       "      <td>...</td>\n",
       "      <td>471957.0</td>\n",
       "      <td>17108.0</td>\n",
       "      <td>81381.776590</td>\n",
       "      <td>119916.0</td>\n",
       "      <td>1.0</td>\n",
       "      <td>1033561.0</td>\n",
       "      <td>415955.0</td>\n",
       "      <td>147287.0</td>\n",
       "      <td>2.581270e+05</td>\n",
       "      <td>234891.000000</td>\n",
       "    </tr>\n",
       "    <tr>\n",
       "      <td>1</td>\n",
       "      <td>Bad</td>\n",
       "      <td>15.240000</td>\n",
       "      <td>9.320000</td>\n",
       "      <td>13.980000</td>\n",
       "      <td>11.150000</td>\n",
       "      <td>4.231002e+07</td>\n",
       "      <td>11.624119</td>\n",
       "      <td>63253422.0</td>\n",
       "      <td>20793485.0</td>\n",
       "      <td>3111608.0</td>\n",
       "      <td>...</td>\n",
       "      <td>18649526.0</td>\n",
       "      <td>906897.0</td>\n",
       "      <td>944546.000000</td>\n",
       "      <td>2946308.0</td>\n",
       "      <td>19644613.0</td>\n",
       "      <td>11596044.0</td>\n",
       "      <td>6881998.0</td>\n",
       "      <td>-69861.0</td>\n",
       "      <td>4.148446e+06</td>\n",
       "      <td>198944.931086</td>\n",
       "    </tr>\n",
       "    <tr>\n",
       "      <td>2</td>\n",
       "      <td>Bad</td>\n",
       "      <td>27.309999</td>\n",
       "      <td>21.730000</td>\n",
       "      <td>24.750000</td>\n",
       "      <td>24.600000</td>\n",
       "      <td>1.827805e+07</td>\n",
       "      <td>23.324638</td>\n",
       "      <td>4910968.0</td>\n",
       "      <td>882855.0</td>\n",
       "      <td>238905.0</td>\n",
       "      <td>...</td>\n",
       "      <td>1739126.0</td>\n",
       "      <td>4326.0</td>\n",
       "      <td>70845.000000</td>\n",
       "      <td>14419.0</td>\n",
       "      <td>6617.0</td>\n",
       "      <td>2487188.0</td>\n",
       "      <td>1231313.0</td>\n",
       "      <td>473382.0</td>\n",
       "      <td>7.824930e+05</td>\n",
       "      <td>109693.674100</td>\n",
       "    </tr>\n",
       "    <tr>\n",
       "      <td>3</td>\n",
       "      <td>Bad</td>\n",
       "      <td>30.350000</td>\n",
       "      <td>26.270000</td>\n",
       "      <td>29.610001</td>\n",
       "      <td>27.139999</td>\n",
       "      <td>3.827353e+07</td>\n",
       "      <td>25.771338</td>\n",
       "      <td>3454612.0</td>\n",
       "      <td>1126358.0</td>\n",
       "      <td>191491.0</td>\n",
       "      <td>...</td>\n",
       "      <td>564759.0</td>\n",
       "      <td>67259.0</td>\n",
       "      <td>371338.000000</td>\n",
       "      <td>28151.0</td>\n",
       "      <td>1.0</td>\n",
       "      <td>1600873.0</td>\n",
       "      <td>1413608.0</td>\n",
       "      <td>20077.0</td>\n",
       "      <td>7.068100e+04</td>\n",
       "      <td>96429.000000</td>\n",
       "    </tr>\n",
       "    <tr>\n",
       "      <td>4</td>\n",
       "      <td>Bad</td>\n",
       "      <td>22.500000</td>\n",
       "      <td>11.583700</td>\n",
       "      <td>19.866100</td>\n",
       "      <td>14.940000</td>\n",
       "      <td>1.157091e+07</td>\n",
       "      <td>16.613333</td>\n",
       "      <td>8265026.0</td>\n",
       "      <td>3633042.0</td>\n",
       "      <td>123715.0</td>\n",
       "      <td>...</td>\n",
       "      <td>2646948.0</td>\n",
       "      <td>105024.0</td>\n",
       "      <td>16875.367971</td>\n",
       "      <td>320365.0</td>\n",
       "      <td>108.0</td>\n",
       "      <td>2861085.0</td>\n",
       "      <td>3632101.0</td>\n",
       "      <td>24773.0</td>\n",
       "      <td>5.024450e+05</td>\n",
       "      <td>-795460.000000</td>\n",
       "    </tr>\n",
       "  </tbody>\n",
       "</table>\n",
       "<p>5 rows × 40 columns</p>\n",
       "</div>"
      ],
      "text/plain": [
       "  target       High        Low       Open      Close        Volume  Adj Close  \\\n",
       "0    Bad  42.900002  19.440001  19.985001  22.750000  3.449634e+07  12.533106   \n",
       "1    Bad  15.240000   9.320000  13.980000  11.150000  4.231002e+07  11.624119   \n",
       "2    Bad  27.309999  21.730000  24.750000  24.600000  1.827805e+07  23.324638   \n",
       "3    Bad  30.350000  26.270000  29.610001  27.139999  3.827353e+07  25.771338   \n",
       "4    Bad  22.500000  11.583700  19.866100  14.940000  1.157091e+07  16.613333   \n",
       "\n",
       "   Ativo Total  Ativo Circulante  Caixa e Equivalentes de Caixa AC  ...  \\\n",
       "0    2885705.0         1715015.0                          374622.0  ...   \n",
       "1   63253422.0        20793485.0                         3111608.0  ...   \n",
       "2    4910968.0          882855.0                          238905.0  ...   \n",
       "3    3454612.0         1126358.0                          191491.0  ...   \n",
       "4    8265026.0         3633042.0                          123715.0  ...   \n",
       "\n",
       "   Empréstimos e Financiamentos PNC  Outros PNC  Tributos Diferidos PNC  \\\n",
       "0                          471957.0     17108.0            81381.776590   \n",
       "1                        18649526.0    906897.0           944546.000000   \n",
       "2                         1739126.0      4326.0            70845.000000   \n",
       "3                          564759.0     67259.0           371338.000000   \n",
       "4                         2646948.0    105024.0            16875.367971   \n",
       "\n",
       "   Provisões PNC  Participação dos Acionistas Não Controladores  \\\n",
       "0       119916.0                                            1.0   \n",
       "1      2946308.0                                     19644613.0   \n",
       "2        14419.0                                         6617.0   \n",
       "3        28151.0                                            1.0   \n",
       "4       320365.0                                          108.0   \n",
       "\n",
       "   Patrimônio Líquido  Capital Social Realizado  Reservas de Capital  \\\n",
       "0           1033561.0                  415955.0             147287.0   \n",
       "1          11596044.0                 6881998.0             -69861.0   \n",
       "2           2487188.0                 1231313.0             473382.0   \n",
       "3           1600873.0                 1413608.0              20077.0   \n",
       "4           2861085.0                 3632101.0              24773.0   \n",
       "\n",
       "   Reservas de Lucros  Lucros/Prejuízos Acumulados  \n",
       "0        2.581270e+05                234891.000000  \n",
       "1        4.148446e+06                198944.931086  \n",
       "2        7.824930e+05                109693.674100  \n",
       "3        7.068100e+04                 96429.000000  \n",
       "4        5.024450e+05               -795460.000000  \n",
       "\n",
       "[5 rows x 40 columns]"
      ]
     },
     "execution_count": 2,
     "metadata": {},
     "output_type": "execute_result"
    }
   ],
   "source": [
    "dataset = pd.read_csv('DATASET_FINAL_PARA_APLICAÇÃO_DOS_ALGORITIMOS.csv')\n",
    "dataset.head()"
   ]
  },
  {
   "cell_type": "markdown",
   "metadata": {},
   "source": [
    "Só mostrando que o alvo a ser predito está balanceado."
   ]
  },
  {
   "cell_type": "code",
   "execution_count": 3,
   "metadata": {},
   "outputs": [
    {
     "data": {
      "text/plain": [
       "Good    657\n",
       "Bad     657\n",
       "Name: target, dtype: int64"
      ]
     },
     "execution_count": 3,
     "metadata": {},
     "output_type": "execute_result"
    }
   ],
   "source": [
    "dataset['target'].value_counts()"
   ]
  },
  {
   "cell_type": "markdown",
   "metadata": {},
   "source": [
    "Aqui normalizamos o dataset, trazendo para uma escala de 0 a 1, ainda que isso não faça muita diferença em árvore de decisão."
   ]
  },
  {
   "cell_type": "code",
   "execution_count": 4,
   "metadata": {},
   "outputs": [],
   "source": [
    "normalizador = MinMaxScaler(feature_range=(0,1))\n",
    "\n",
    "normalizador_features = normalizador.fit_transform(dataset.drop('target',axis=1))\n",
    "\n",
    "dataset_normalizador = pd.DataFrame(normalizador_features,columns=dataset.columns[1:])\n",
    "\n",
    "X_train, X_test, y_train, y_test = train_test_split(normalizador_features, dataset['target'], test_size=0.2)"
   ]
  },
  {
   "cell_type": "code",
   "execution_count": 5,
   "metadata": {},
   "outputs": [
    {
     "data": {
      "text/plain": [
       "array([[0.1052172 , 0.05924601, 0.11354157, ..., 0.04743568, 0.03025748,\n",
       "        0.46372975],\n",
       "       [0.12649653, 0.09791676, 0.09304432, ..., 0.03625699, 0.85510228,\n",
       "        0.59424387],\n",
       "       [0.10281955, 0.10192647, 0.10344045, ..., 0.04619003, 0.00884957,\n",
       "        0.47774122],\n",
       "       ...,\n",
       "       [0.22725986, 0.22581451, 0.22136001, ..., 0.04950551, 0.02649368,\n",
       "        0.4842152 ],\n",
       "       [0.06086012, 0.05740217, 0.06323959, ..., 0.04770481, 0.00567275,\n",
       "        0.46951981],\n",
       "       [0.21426283, 0.11993298, 0.12861089, ..., 0.04749007, 0.00150068,\n",
       "        0.45785942]])"
      ]
     },
     "execution_count": 5,
     "metadata": {},
     "output_type": "execute_result"
    }
   ],
   "source": [
    "X_train"
   ]
  },
  {
   "cell_type": "markdown",
   "metadata": {},
   "source": [
    "Aqui calculamos o tempos do processo de Grid Seach onde ele busca os melhores parâmetros que especulamos para cada hiperparâmetro.\n",
    "\n",
    "Assim, printamos os melhores valores estimados."
   ]
  },
  {
   "cell_type": "code",
   "execution_count": 6,
   "metadata": {},
   "outputs": [
    {
     "name": "stderr",
     "output_type": "stream",
     "text": [
      "/home/jarbasjr/.local/lib/python3.6/site-packages/sklearn/model_selection/_search.py:814: DeprecationWarning: The default of the `iid` parameter will change from True to False in version 0.22 and will be removed in 0.24. This will change numeric results when test-set sizes are unequal.\n",
      "  DeprecationWarning)\n"
     ]
    },
    {
     "name": "stdout",
     "output_type": "stream",
     "text": [
      "CPU times: user 1h 14min 22s, sys: 1min 24s, total: 1h 15min 46s\n",
      "Wall time: 1h 16min 9s\n"
     ]
    },
    {
     "data": {
      "text/plain": [
       "XGBClassifier(base_score=0.5, booster='gbtree', colsample_bylevel=1,\n",
       "              colsample_bynode=1, colsample_bytree=0.1, gamma=0,\n",
       "              learning_rate=0.05, max_delta_step=0, max_depth=15,\n",
       "              min_child_weight=1, missing=-999, n_estimators=175, n_jobs=1,\n",
       "              nthread=None, objective='binary:logistic', random_state=0,\n",
       "              reg_alpha=0, reg_lambda=1, scale_pos_weight=1, seed=None,\n",
       "              silent=None, subsample=1.0, verbosity=1)"
      ]
     },
     "execution_count": 6,
     "metadata": {},
     "output_type": "execute_result"
    }
   ],
   "source": [
    "%%time\n",
    "\n",
    "xgb = XGBClassifier()\n",
    "\n",
    "parameter = {'learning_rate': [0.01, 0.05, 0.001],      #so called `eta` value\n",
    "             'max_depth': [10,15,25],\n",
    "             'min_child_weight': [1, 5, 11],\n",
    "             'subsample': [0.1, 0.5, 0.8, 1.0],\n",
    "             'colsample_bytree': [0.1, 0.5, 0.7],\n",
    "             'n_estimators': [125, 150,175],           #number of trees, change it to 1000 for better results\n",
    "              'missing':[-999]}\n",
    "\n",
    "\n",
    "\n",
    "xgb_grid = GridSearchCV(xgb,\n",
    "                        parameter,\n",
    "                        cv = 10,\n",
    "                        refit='accuracy')\n",
    "\n",
    "xgb_grid.fit(X_train, y_train)\n",
    "xgb_grid.best_estimator_"
   ]
  },
  {
   "cell_type": "markdown",
   "metadata": {},
   "source": [
    "Aqui, extraimos as predições feitas nos dados de teste."
   ]
  },
  {
   "cell_type": "code",
   "execution_count": 7,
   "metadata": {
    "scrolled": true
   },
   "outputs": [
    {
     "name": "stdout",
     "output_type": "stream",
     "text": [
      "              precision    recall  f1-score   support\n",
      "\n",
      "         Bad       0.83      0.80      0.81       128\n",
      "        Good       0.81      0.84      0.83       135\n",
      "\n",
      "    accuracy                           0.82       263\n",
      "   macro avg       0.82      0.82      0.82       263\n",
      "weighted avg       0.82      0.82      0.82       263\n",
      "\n"
     ]
    }
   ],
   "source": [
    "predictions = xgb_grid.best_estimator_.predict(X_test)\n",
    "print(classification_report(y_test, predictions))"
   ]
  },
  {
   "cell_type": "markdown",
   "metadata": {},
   "source": [
    "## CLASSIFICAÇÃO. \n",
    "\n",
    "Classification report nos traz as principais métricas de desempenho do algoritmo nesses dados."
   ]
  },
  {
   "cell_type": "code",
   "execution_count": 8,
   "metadata": {
    "scrolled": false
   },
   "outputs": [
    {
     "data": {
      "text/plain": [
       "0.8306374881065651"
      ]
     },
     "execution_count": 8,
     "metadata": {},
     "output_type": "execute_result"
    }
   ],
   "source": [
    "xgb_grid.best_score_"
   ]
  },
  {
   "cell_type": "markdown",
   "metadata": {},
   "source": [
    "E ainda temos o desempenho com base no score do grid search com o cross validation que foi \"acurácia\"."
   ]
  },
  {
   "cell_type": "code",
   "execution_count": 9,
   "metadata": {},
   "outputs": [
    {
     "data": {
      "text/plain": [
       "['XGBoost.joblib']"
      ]
     },
     "execution_count": 9,
     "metadata": {},
     "output_type": "execute_result"
    }
   ],
   "source": [
    "import pickle\n",
    "from joblib import dump, load\n",
    "\n",
    "\n",
    "s = pickle.dumps(xgb_grid)\n",
    "dump(xgb_grid, 'XGBoost.joblib')"
   ]
  },
  {
   "cell_type": "code",
   "execution_count": 10,
   "metadata": {},
   "outputs": [
    {
     "data": {
      "text/plain": [
       "XGBClassifier(base_score=0.5, booster='gbtree', colsample_bylevel=1,\n",
       "              colsample_bynode=1, colsample_bytree=0.1, gamma=0,\n",
       "              learning_rate=0.05, max_delta_step=0, max_depth=15,\n",
       "              min_child_weight=1, missing=-999, n_estimators=175, n_jobs=1,\n",
       "              nthread=None, objective='binary:logistic', random_state=0,\n",
       "              reg_alpha=0, reg_lambda=1, scale_pos_weight=1, seed=None,\n",
       "              silent=None, subsample=1.0, verbosity=1)"
      ]
     },
     "execution_count": 10,
     "metadata": {},
     "output_type": "execute_result"
    }
   ],
   "source": [
    "xgb_grid_cv = load('XGBoost.joblib')\n",
    "\n",
    "xgb_grid_cv.best_estimator_\n"
   ]
  }
 ],
 "metadata": {
  "kernelspec": {
   "display_name": "Python 3",
   "language": "python",
   "name": "python3"
  },
  "language_info": {
   "codemirror_mode": {
    "name": "ipython",
    "version": 3
   },
   "file_extension": ".py",
   "mimetype": "text/x-python",
   "name": "python",
   "nbconvert_exporter": "python",
   "pygments_lexer": "ipython3",
   "version": "3.7.4"
  }
 },
 "nbformat": 4,
 "nbformat_minor": 2
}
