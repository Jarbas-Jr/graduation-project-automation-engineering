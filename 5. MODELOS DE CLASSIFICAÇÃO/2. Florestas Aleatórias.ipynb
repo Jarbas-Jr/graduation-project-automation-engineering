{
 "cells": [
  {
   "cell_type": "markdown",
   "metadata": {},
   "source": [
    "# APLICAÇÃO DO ALGORTIMO DE FLORESTA ALEATÓRIA"
   ]
  },
  {
   "cell_type": "code",
   "execution_count": 1,
   "metadata": {},
   "outputs": [],
   "source": [
    "import pandas as pd\n",
    "import numpy as np\n",
    "from sklearn.model_selection import GridSearchCV\n",
    "from sklearn.model_selection import train_test_split\n",
    "from sklearn.ensemble import RandomForestClassifier\n",
    "from sklearn.metrics import classification_report\n",
    "from sklearn.preprocessing import MinMaxScaler"
   ]
  },
  {
   "cell_type": "markdown",
   "metadata": {},
   "source": [
    "Leitura do dataset final."
   ]
  },
  {
   "cell_type": "code",
   "execution_count": 2,
   "metadata": {
    "scrolled": true
   },
   "outputs": [
    {
     "data": {
      "text/html": [
       "<div>\n",
       "<style scoped>\n",
       "    .dataframe tbody tr th:only-of-type {\n",
       "        vertical-align: middle;\n",
       "    }\n",
       "\n",
       "    .dataframe tbody tr th {\n",
       "        vertical-align: top;\n",
       "    }\n",
       "\n",
       "    .dataframe thead th {\n",
       "        text-align: right;\n",
       "    }\n",
       "</style>\n",
       "<table border=\"1\" class=\"dataframe\">\n",
       "  <thead>\n",
       "    <tr style=\"text-align: right;\">\n",
       "      <th></th>\n",
       "      <th>target</th>\n",
       "      <th>High</th>\n",
       "      <th>Low</th>\n",
       "      <th>Open</th>\n",
       "      <th>Close</th>\n",
       "      <th>Volume</th>\n",
       "      <th>Adj Close</th>\n",
       "      <th>Ativo Total</th>\n",
       "      <th>Ativo Circulante</th>\n",
       "      <th>Caixa e Equivalentes de Caixa AC</th>\n",
       "      <th>...</th>\n",
       "      <th>Empréstimos e Financiamentos PNC</th>\n",
       "      <th>Outros PNC</th>\n",
       "      <th>Tributos Diferidos PNC</th>\n",
       "      <th>Provisões PNC</th>\n",
       "      <th>Participação dos Acionistas Não Controladores</th>\n",
       "      <th>Patrimônio Líquido</th>\n",
       "      <th>Capital Social Realizado</th>\n",
       "      <th>Reservas de Capital</th>\n",
       "      <th>Reservas de Lucros</th>\n",
       "      <th>Lucros/Prejuízos Acumulados</th>\n",
       "    </tr>\n",
       "  </thead>\n",
       "  <tbody>\n",
       "    <tr>\n",
       "      <td>0</td>\n",
       "      <td>Bad</td>\n",
       "      <td>42.900002</td>\n",
       "      <td>19.440001</td>\n",
       "      <td>19.985001</td>\n",
       "      <td>22.750000</td>\n",
       "      <td>3.449634e+07</td>\n",
       "      <td>12.533106</td>\n",
       "      <td>2885705.0</td>\n",
       "      <td>1715015.0</td>\n",
       "      <td>374622.0</td>\n",
       "      <td>...</td>\n",
       "      <td>471957.0</td>\n",
       "      <td>17108.0</td>\n",
       "      <td>81381.776590</td>\n",
       "      <td>119916.0</td>\n",
       "      <td>1.0</td>\n",
       "      <td>1033561.0</td>\n",
       "      <td>415955.0</td>\n",
       "      <td>147287.0</td>\n",
       "      <td>2.581270e+05</td>\n",
       "      <td>234891.000000</td>\n",
       "    </tr>\n",
       "    <tr>\n",
       "      <td>1</td>\n",
       "      <td>Bad</td>\n",
       "      <td>15.240000</td>\n",
       "      <td>9.320000</td>\n",
       "      <td>13.980000</td>\n",
       "      <td>11.150000</td>\n",
       "      <td>4.231002e+07</td>\n",
       "      <td>11.624119</td>\n",
       "      <td>63253422.0</td>\n",
       "      <td>20793485.0</td>\n",
       "      <td>3111608.0</td>\n",
       "      <td>...</td>\n",
       "      <td>18649526.0</td>\n",
       "      <td>906897.0</td>\n",
       "      <td>944546.000000</td>\n",
       "      <td>2946308.0</td>\n",
       "      <td>19644613.0</td>\n",
       "      <td>11596044.0</td>\n",
       "      <td>6881998.0</td>\n",
       "      <td>-69861.0</td>\n",
       "      <td>4.148446e+06</td>\n",
       "      <td>198944.931086</td>\n",
       "    </tr>\n",
       "    <tr>\n",
       "      <td>2</td>\n",
       "      <td>Bad</td>\n",
       "      <td>27.309999</td>\n",
       "      <td>21.730000</td>\n",
       "      <td>24.750000</td>\n",
       "      <td>24.600000</td>\n",
       "      <td>1.827805e+07</td>\n",
       "      <td>23.324638</td>\n",
       "      <td>4910968.0</td>\n",
       "      <td>882855.0</td>\n",
       "      <td>238905.0</td>\n",
       "      <td>...</td>\n",
       "      <td>1739126.0</td>\n",
       "      <td>4326.0</td>\n",
       "      <td>70845.000000</td>\n",
       "      <td>14419.0</td>\n",
       "      <td>6617.0</td>\n",
       "      <td>2487188.0</td>\n",
       "      <td>1231313.0</td>\n",
       "      <td>473382.0</td>\n",
       "      <td>7.824930e+05</td>\n",
       "      <td>109693.674100</td>\n",
       "    </tr>\n",
       "    <tr>\n",
       "      <td>3</td>\n",
       "      <td>Bad</td>\n",
       "      <td>30.350000</td>\n",
       "      <td>26.270000</td>\n",
       "      <td>29.610001</td>\n",
       "      <td>27.139999</td>\n",
       "      <td>3.827353e+07</td>\n",
       "      <td>25.771338</td>\n",
       "      <td>3454612.0</td>\n",
       "      <td>1126358.0</td>\n",
       "      <td>191491.0</td>\n",
       "      <td>...</td>\n",
       "      <td>564759.0</td>\n",
       "      <td>67259.0</td>\n",
       "      <td>371338.000000</td>\n",
       "      <td>28151.0</td>\n",
       "      <td>1.0</td>\n",
       "      <td>1600873.0</td>\n",
       "      <td>1413608.0</td>\n",
       "      <td>20077.0</td>\n",
       "      <td>7.068100e+04</td>\n",
       "      <td>96429.000000</td>\n",
       "    </tr>\n",
       "    <tr>\n",
       "      <td>4</td>\n",
       "      <td>Bad</td>\n",
       "      <td>22.500000</td>\n",
       "      <td>11.583700</td>\n",
       "      <td>19.866100</td>\n",
       "      <td>14.940000</td>\n",
       "      <td>1.157091e+07</td>\n",
       "      <td>16.613333</td>\n",
       "      <td>8265026.0</td>\n",
       "      <td>3633042.0</td>\n",
       "      <td>123715.0</td>\n",
       "      <td>...</td>\n",
       "      <td>2646948.0</td>\n",
       "      <td>105024.0</td>\n",
       "      <td>16875.367971</td>\n",
       "      <td>320365.0</td>\n",
       "      <td>108.0</td>\n",
       "      <td>2861085.0</td>\n",
       "      <td>3632101.0</td>\n",
       "      <td>24773.0</td>\n",
       "      <td>5.024450e+05</td>\n",
       "      <td>-795460.000000</td>\n",
       "    </tr>\n",
       "  </tbody>\n",
       "</table>\n",
       "<p>5 rows × 40 columns</p>\n",
       "</div>"
      ],
      "text/plain": [
       "  target       High        Low       Open      Close        Volume  Adj Close  \\\n",
       "0    Bad  42.900002  19.440001  19.985001  22.750000  3.449634e+07  12.533106   \n",
       "1    Bad  15.240000   9.320000  13.980000  11.150000  4.231002e+07  11.624119   \n",
       "2    Bad  27.309999  21.730000  24.750000  24.600000  1.827805e+07  23.324638   \n",
       "3    Bad  30.350000  26.270000  29.610001  27.139999  3.827353e+07  25.771338   \n",
       "4    Bad  22.500000  11.583700  19.866100  14.940000  1.157091e+07  16.613333   \n",
       "\n",
       "   Ativo Total  Ativo Circulante  Caixa e Equivalentes de Caixa AC  ...  \\\n",
       "0    2885705.0         1715015.0                          374622.0  ...   \n",
       "1   63253422.0        20793485.0                         3111608.0  ...   \n",
       "2    4910968.0          882855.0                          238905.0  ...   \n",
       "3    3454612.0         1126358.0                          191491.0  ...   \n",
       "4    8265026.0         3633042.0                          123715.0  ...   \n",
       "\n",
       "   Empréstimos e Financiamentos PNC  Outros PNC  Tributos Diferidos PNC  \\\n",
       "0                          471957.0     17108.0            81381.776590   \n",
       "1                        18649526.0    906897.0           944546.000000   \n",
       "2                         1739126.0      4326.0            70845.000000   \n",
       "3                          564759.0     67259.0           371338.000000   \n",
       "4                         2646948.0    105024.0            16875.367971   \n",
       "\n",
       "   Provisões PNC  Participação dos Acionistas Não Controladores  \\\n",
       "0       119916.0                                            1.0   \n",
       "1      2946308.0                                     19644613.0   \n",
       "2        14419.0                                         6617.0   \n",
       "3        28151.0                                            1.0   \n",
       "4       320365.0                                          108.0   \n",
       "\n",
       "   Patrimônio Líquido  Capital Social Realizado  Reservas de Capital  \\\n",
       "0           1033561.0                  415955.0             147287.0   \n",
       "1          11596044.0                 6881998.0             -69861.0   \n",
       "2           2487188.0                 1231313.0             473382.0   \n",
       "3           1600873.0                 1413608.0              20077.0   \n",
       "4           2861085.0                 3632101.0              24773.0   \n",
       "\n",
       "   Reservas de Lucros  Lucros/Prejuízos Acumulados  \n",
       "0        2.581270e+05                234891.000000  \n",
       "1        4.148446e+06                198944.931086  \n",
       "2        7.824930e+05                109693.674100  \n",
       "3        7.068100e+04                 96429.000000  \n",
       "4        5.024450e+05               -795460.000000  \n",
       "\n",
       "[5 rows x 40 columns]"
      ]
     },
     "execution_count": 2,
     "metadata": {},
     "output_type": "execute_result"
    }
   ],
   "source": [
    "dataset = pd.read_csv('DATASET_FINAL_PARA_APLICAÇÃO_DOS_ALGORITIMOS.csv')\n",
    "dataset.head()"
   ]
  },
  {
   "cell_type": "code",
   "execution_count": 3,
   "metadata": {},
   "outputs": [
    {
     "name": "stdout",
     "output_type": "stream",
     "text": [
      "<class 'pandas.core.frame.DataFrame'>\n",
      "RangeIndex: 1314 entries, 0 to 1313\n",
      "Data columns (total 40 columns):\n",
      "target                                           1314 non-null object\n",
      "High                                             1314 non-null float64\n",
      "Low                                              1314 non-null float64\n",
      "Open                                             1314 non-null float64\n",
      "Close                                            1314 non-null float64\n",
      "Volume                                           1314 non-null float64\n",
      "Adj Close                                        1314 non-null float64\n",
      "Ativo Total                                      1314 non-null float64\n",
      "Ativo Circulante                                 1314 non-null float64\n",
      "Caixa e Equivalentes de Caixa AC                 1314 non-null float64\n",
      "Aplicações Financeiras AC                        1314 non-null float64\n",
      "Contas a Receber AC                              1314 non-null float64\n",
      "Estoques AC                                      1314 non-null float64\n",
      "Tributos a Recuperar AC                          1314 non-null float64\n",
      "Outros Ativos Circulantes AC                     1314 non-null float64\n",
      "Ativo Realizavel Longo Prazo                     1314 non-null float64\n",
      "Contas a Receber ACLP                            1314 non-null float64\n",
      "Tributos Diferidos ACLP                          1314 non-null float64\n",
      "Outros Ativos Não Circulantes ACLP               1314 non-null float64\n",
      "Investimentos                                    1314 non-null float64\n",
      "Imobilizado                                      1314 non-null float64\n",
      "Intangível                                       1314 non-null float64\n",
      "Passivo Total                                    1314 non-null float64\n",
      "Passivo Circulante                               1314 non-null float64\n",
      "Obrigações Sociais e Trabalhistas PC             1314 non-null float64\n",
      "Fornecedores PC                                  1314 non-null float64\n",
      "Obrigações Fiscais PC                            1314 non-null float64\n",
      "Empréstimos e Financiamentos PC                  1314 non-null float64\n",
      "Outros PC                                        1314 non-null float64\n",
      "Passivo Não Circulante                           1314 non-null float64\n",
      "Empréstimos e Financiamentos PNC                 1314 non-null float64\n",
      "Outros PNC                                       1314 non-null float64\n",
      "Tributos Diferidos PNC                           1314 non-null float64\n",
      "Provisões PNC                                    1314 non-null float64\n",
      "Participação dos Acionistas Não Controladores    1314 non-null float64\n",
      "Patrimônio Líquido                               1314 non-null float64\n",
      "Capital Social Realizado                         1314 non-null float64\n",
      "Reservas de Capital                              1314 non-null float64\n",
      "Reservas de Lucros                               1314 non-null float64\n",
      "Lucros/Prejuízos Acumulados                      1314 non-null float64\n",
      "dtypes: float64(39), object(1)\n",
      "memory usage: 410.8+ KB\n"
     ]
    }
   ],
   "source": [
    "dataset.info()"
   ]
  },
  {
   "cell_type": "markdown",
   "metadata": {},
   "source": [
    "Só mostrando que o alvo a ser predito está balanceado."
   ]
  },
  {
   "cell_type": "code",
   "execution_count": 4,
   "metadata": {},
   "outputs": [
    {
     "data": {
      "text/plain": [
       "Good    657\n",
       "Bad     657\n",
       "Name: target, dtype: int64"
      ]
     },
     "execution_count": 4,
     "metadata": {},
     "output_type": "execute_result"
    }
   ],
   "source": [
    "dataset['target'].value_counts()"
   ]
  },
  {
   "cell_type": "markdown",
   "metadata": {},
   "source": [
    "Aqui normalizamos o dataset, trazendo para uma escala de 0 a 1, ainda que isso não faça muita diferença em árvore de decisão."
   ]
  },
  {
   "cell_type": "code",
   "execution_count": 5,
   "metadata": {},
   "outputs": [],
   "source": [
    "normalizador = MinMaxScaler(feature_range=(0,1))\n",
    "\n",
    "normalizador_features = normalizador.fit_transform(dataset.drop('target',axis=1))\n",
    "\n",
    "dataset_normalizador = pd.DataFrame(normalizador_features,columns=dataset.columns[1:])\n",
    "\n",
    "X_train, X_test, y_train, y_test = train_test_split(normalizador_features, dataset['target'], test_size=0.2)"
   ]
  },
  {
   "cell_type": "markdown",
   "metadata": {},
   "source": [
    "Aqui calculamos o tempos do processo de Grid Seach onde ele busca os melhores parâmetros que especulamos para cada hiperparâmetro.\n",
    "\n",
    "Assim, printamos os melhores valores estimados."
   ]
  },
  {
   "cell_type": "code",
   "execution_count": 6,
   "metadata": {},
   "outputs": [
    {
     "name": "stdout",
     "output_type": "stream",
     "text": [
      "CPU times: user 18min 14s, sys: 11.2 s, total: 18min 25s\n",
      "Wall time: 18min 31s\n"
     ]
    },
    {
     "data": {
      "text/plain": [
       "RandomForestClassifier(bootstrap=True, class_weight=None, criterion='gini',\n",
       "                       max_depth=75, max_features=1, max_leaf_nodes=None,\n",
       "                       min_impurity_decrease=0.0, min_impurity_split=None,\n",
       "                       min_samples_leaf=1, min_samples_split=2,\n",
       "                       min_weight_fraction_leaf=0.0, n_estimators=275,\n",
       "                       n_jobs=None, oob_score=False, random_state=None,\n",
       "                       verbose=0, warm_start=False)"
      ]
     },
     "execution_count": 6,
     "metadata": {},
     "output_type": "execute_result"
    }
   ],
   "source": [
    "%%time\n",
    "random_forest = RandomForestClassifier()\n",
    "\n",
    "parameter = {'bootstrap': [True],\n",
    "             'max_depth': [75,80,85,90],\n",
    "             'max_features': [1,2],\n",
    "             'min_samples_leaf': [1,2],\n",
    "             'min_samples_split': [2,3,4],\n",
    "             'n_estimators': [225,250,275] }\n",
    "\n",
    "\n",
    "\n",
    "rforest_gridcv = GridSearchCV(random_forest, parameter, cv=10, scoring='accuracy')\n",
    "rforest_gridcv.fit(X_train, y_train)\n",
    "rforest_gridcv.best_estimator_"
   ]
  },
  {
   "cell_type": "markdown",
   "metadata": {},
   "source": [
    "Aqui, extraimos as predições feitas nos dados de teste."
   ]
  },
  {
   "cell_type": "code",
   "execution_count": 7,
   "metadata": {},
   "outputs": [],
   "source": [
    "predictions = rforest_gridcv.best_estimator_.predict(X_test)"
   ]
  },
  {
   "cell_type": "markdown",
   "metadata": {},
   "source": [
    "## CLASSIFICAÇÃO. \n",
    "\n",
    "Classification report nos traz as principais métricas de desempenho do algoritmo nesses dados."
   ]
  },
  {
   "cell_type": "code",
   "execution_count": 8,
   "metadata": {
    "scrolled": true
   },
   "outputs": [
    {
     "name": "stdout",
     "output_type": "stream",
     "text": [
      "              precision    recall  f1-score   support\n",
      "\n",
      "         Bad       0.79      0.83      0.81       126\n",
      "        Good       0.83      0.80      0.81       137\n",
      "\n",
      "    accuracy                           0.81       263\n",
      "   macro avg       0.81      0.81      0.81       263\n",
      "weighted avg       0.81      0.81      0.81       263\n",
      "\n"
     ]
    }
   ],
   "source": [
    "print(classification_report(y_test, predictions))"
   ]
  },
  {
   "cell_type": "markdown",
   "metadata": {},
   "source": [
    "E ainda temos o desempenho com base no score do grid search com o cross validation que foi \"acurácia\"."
   ]
  },
  {
   "cell_type": "code",
   "execution_count": 9,
   "metadata": {},
   "outputs": [
    {
     "data": {
      "text/plain": [
       "0.8439581351094196"
      ]
     },
     "execution_count": 9,
     "metadata": {},
     "output_type": "execute_result"
    }
   ],
   "source": [
    "rforest_gridcv.best_score_"
   ]
  },
  {
   "cell_type": "markdown",
   "metadata": {},
   "source": [
    "## Importar modelo para usarmos depois no processo de inferência."
   ]
  },
  {
   "cell_type": "code",
   "execution_count": 10,
   "metadata": {},
   "outputs": [
    {
     "data": {
      "text/plain": [
       "['FlorestasAleatórias.joblib']"
      ]
     },
     "execution_count": 10,
     "metadata": {},
     "output_type": "execute_result"
    }
   ],
   "source": [
    "import pickle\n",
    "from joblib import dump, load\n",
    "\n",
    "\n",
    "s = pickle.dumps(rforest_gridcv)\n",
    "dump(rforest_gridcv, 'FlorestasAleatórias.joblib')"
   ]
  }
 ],
 "metadata": {
  "kernelspec": {
   "display_name": "Python 3",
   "language": "python",
   "name": "python3"
  },
  "language_info": {
   "codemirror_mode": {
    "name": "ipython",
    "version": 3
   },
   "file_extension": ".py",
   "mimetype": "text/x-python",
   "name": "python",
   "nbconvert_exporter": "python",
   "pygments_lexer": "ipython3",
   "version": "3.7.4"
  }
 },
 "nbformat": 4,
 "nbformat_minor": 2
}
